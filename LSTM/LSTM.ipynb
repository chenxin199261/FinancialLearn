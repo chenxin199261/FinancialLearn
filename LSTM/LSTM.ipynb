{
 "cells": [
  {
   "cell_type": "code",
   "execution_count": 19,
   "id": "f17857ec-964f-4842-abce-aa6e6a1ac2ba",
   "metadata": {
    "tags": []
   },
   "outputs": [],
   "source": [
    "import numpy as np\n",
    "from tensorflow.keras.models import Sequential\n",
    "from tensorflow.keras.layers import LSTM\n",
    "from tensorflow.keras.layers import Dense, Dropout\n",
    "import pandas as pd\n",
    "from matplotlib import pyplot as plt\n",
    "from sklearn.preprocessing import MinMaxScaler\n",
    "import seaborn as sns"
   ]
  },
  {
   "cell_type": "code",
   "execution_count": 26,
   "id": "25f5431a-4498-4559-ad5c-ee1ed74d6b5c",
   "metadata": {
    "tags": []
   },
   "outputs": [
    {
     "name": "stdout",
     "output_type": "stream",
     "text": [
      "(4162, 5) (number of data, dim)\n",
      "(1041, 5) (number of data, dim)\n"
     ]
    }
   ],
   "source": [
    "df=pd.read_csv(\"train.csv\",parse_dates=[\"Date\"],index_col=[0])\n",
    "\n",
    "# Split test and train\n",
    "ntest = round(len(df)*0.20)  # 20% are test set\n",
    "df_for_training=df[:-ntest]\n",
    "df_for_testing=df[-ntest:]\n",
    "\n",
    "print(df_for_training.shape,'(number of data for training, dim)')\n",
    "print(df_for_testing.shape,'(number of data for test, dim)')"
   ]
  },
  {
   "cell_type": "code",
   "execution_count": 27,
   "id": "ea198e58-916f-4e8e-a644-c39f0e56d20d",
   "metadata": {
    "tags": []
   },
   "outputs": [
    {
     "data": {
      "text/plain": [
       "array([[0.85398707, 0.86281807, 0.85292546, 0.8403402 , 0.82180889],\n",
       "       [0.85533406, 0.85473269, 0.82623316, 0.8122593 , 0.79289309],\n",
       "       [0.82155169, 0.84260459, 0.81422168, 0.80701755, 0.78749611],\n",
       "       ...,\n",
       "       [0.40689652, 0.40362224, 0.41960282, 0.40436458, 0.7632948 ],\n",
       "       [0.40517242, 0.39995691, 0.41832161, 0.4075738 , 0.76889077],\n",
       "       [0.40862067, 0.39974127, 0.41426436, 0.39880189, 0.75359571]])"
      ]
     },
     "execution_count": 27,
     "metadata": {},
     "output_type": "execute_result"
    }
   ],
   "source": [
    "scaler = MinMaxScaler(feature_range=(0,1))\n",
    "df_for_training_scaled = scaler.fit_transform(df_for_training)\n",
    "df_for_testing_scaled=scaler.transform(df_for_testing)\n",
    "df_for_training_scaled"
   ]
  },
  {
   "cell_type": "code",
   "execution_count": 30,
   "id": "e86ed92b-7052-439a-b51c-bc35003f63a2",
   "metadata": {
    "tags": []
   },
   "outputs": [],
   "source": [
    "def createXY(dataset,n_past):\n",
    "    dataX = []\n",
    "    dataY = []\n",
    "    for i in range(n_past, len(dataset)):\n",
    "            dataX.append(dataset[i - n_past:i, 0:dataset.shape[1]])\n",
    "            dataY.append(dataset[i,0])\n",
    "    return np.array(dataX),np.array(dataY)\n",
    "trainX,trainY=createXY(df_for_training_scaled,30)\n",
    "testX,testY=createXY(df_for_testing_scaled,30)"
   ]
  },
  {
   "cell_type": "code",
   "execution_count": 32,
   "id": "d2967606-36ba-4f06-9184-bf5ed3a4a37a",
   "metadata": {
    "tags": []
   },
   "outputs": [
    {
     "name": "stdout",
     "output_type": "stream",
     "text": [
      "trainX Shape--  (4132, 30, 5)\n",
      "trainY Shape--  (4132,)\n",
      "testX Shape--  (1011, 30, 5)\n",
      "testY Shape--  (1011,)\n"
     ]
    }
   ],
   "source": [
    "print(\"trainX Shape-- \",trainX.shape)\n",
    "print(\"trainY Shape-- \",trainY.shape)\n",
    "\n",
    "print(\"testX Shape-- \",testX.shape)\n",
    "print(\"testY Shape-- \",testY.shape)"
   ]
  },
  {
   "cell_type": "code",
   "execution_count": 60,
   "id": "11d6e782-e868-4d17-8956-8353557c227d",
   "metadata": {
    "tags": []
   },
   "outputs": [],
   "source": [
    "from scikeras.wrappers import KerasRegressor\n",
    "from sklearn.model_selection import GridSearchCV"
   ]
  },
  {
   "cell_type": "code",
   "execution_count": 74,
   "id": "de286f5a-7c79-4e68-be50-427c9d65e582",
   "metadata": {
    "tags": []
   },
   "outputs": [],
   "source": [
    "def build_model():\n",
    "    grid_model = Sequential()\n",
    "    grid_model.add(LSTM(50,return_sequences=True,input_shape=(30,5)))\n",
    "    grid_model.add(LSTM(50))\n",
    "    grid_model.add(Dropout(0.2))\n",
    "    grid_model.add(Dense(1))\n",
    "    grid_model.compile(loss = 'mse',optimizer = 'rmsprop')\n",
    "    return grid_model\n",
    "\n",
    "grid_model = KerasRegressor(build_fn=build_model,epochs=100,batch_size=16,optimizer='')\n",
    "parameters = {'batch_size' : [16,20],  'epochs' : [8,10], 'optimizer' : ['adam','Adadelta'] }\n",
    "\n",
    "grid_search  = GridSearchCV(estimator = grid_model,\n",
    "                            param_grid = parameters,\n",
    "                            cv = 2)"
   ]
  },
  {
   "cell_type": "code",
   "execution_count": null,
   "id": "ee4280bc-0565-47c4-9d8e-aa0e47a0eb94",
   "metadata": {
    "tags": []
   },
   "outputs": [],
   "source": [
    "grid_search = grid_search.fit(trainX,trainY)"
   ]
  },
  {
   "cell_type": "code",
   "execution_count": 88,
   "id": "17ee3518-1762-498c-bf32-8c3fee3b930a",
   "metadata": {
    "tags": []
   },
   "outputs": [
    {
     "name": "stdout",
     "output_type": "stream",
     "text": [
      "{'batch_size': 20, 'epochs': 10, 'optimizer': 'adam'}\n"
     ]
    }
   ],
   "source": [
    "print(grid_search.best_params_)\n",
    "my_model=grid_search.best_estimator_"
   ]
  },
  {
   "cell_type": "code",
   "execution_count": 98,
   "id": "b132614d-96b4-4d3e-8c1f-2d8d21e718f3",
   "metadata": {
    "tags": []
   },
   "outputs": [
    {
     "name": "stdout",
     "output_type": "stream",
     "text": [
      "51/51 [==============================] - 1s 14ms/step\n"
     ]
    },
    {
     "data": {
      "text/plain": [
       "array([0.37116963, 0.37494946, 0.3782348 , ..., 0.13947865, 0.14266337,\n",
       "       0.14603958], dtype=float32)"
      ]
     },
     "execution_count": 98,
     "metadata": {},
     "output_type": "execute_result"
    }
   ],
   "source": [
    "# Do prediction\n",
    "prediction=my_model.predict(testX)\n",
    "prediction"
   ]
  },
  {
   "cell_type": "code",
   "execution_count": 108,
   "id": "9cefdd65-00a0-4ae1-b811-9da5d4deb81e",
   "metadata": {
    "tags": []
   },
   "outputs": [
    {
     "name": "stdout",
     "output_type": "stream",
     "text": [
      "prediction\n",
      "\n",
      "\n",
      "Prediction Shape- (1011, 1)\n"
     ]
    },
    {
     "data": {
      "text/plain": [
       "(1011, 1)"
      ]
     },
     "execution_count": 108,
     "metadata": {},
     "output_type": "execute_result"
    }
   ],
   "source": [
    "prediction = prediction.reshape((len(prediction),1))\n",
    "print(\"prediction\\n\", )\n",
    "print(\"\\nPrediction Shape-\",prediction.shape)\n",
    "prediction.shape"
   ]
  },
  {
   "cell_type": "code",
   "execution_count": 112,
   "id": "7cbd60d6-70fa-4d7c-9e8b-ea33bc7d0463",
   "metadata": {
    "tags": []
   },
   "outputs": [],
   "source": [
    "prediction_copies_array = np.repeat(prediction,5, axis=-1)\n",
    "prediction_copies_array\n",
    "pred=scaler.inverse_transform(np.reshape(prediction_copies_array,(len(prediction),5)))[:,0]"
   ]
  },
  {
   "cell_type": "code",
   "execution_count": 113,
   "id": "1e2a88d1-9904-4994-851a-16230ca75ba5",
   "metadata": {
    "tags": []
   },
   "outputs": [],
   "source": [
    "original_copies_array = np.repeat(testY,5, axis=-1)\n",
    "original_copies_array.shape\n",
    "original=scaler.inverse_transform(np.reshape(original_copies_array,(len(testY),5)))[:,0]"
   ]
  },
  {
   "cell_type": "code",
   "execution_count": 115,
   "id": "eaff8822-00ae-430b-ac96-0c5ef1b96bc2",
   "metadata": {
    "tags": []
   },
   "outputs": [
    {
     "data": {
      "image/png": "[encoded data removed]",
      "text/plain": [
       "<Figure size 640x480 with 1 Axes>"
      ]
     },
     "metadata": {},
     "output_type": "display_data"
    }
   ],
   "source": [
    "import matplotlib.pyplot as plt\n",
    "plt.plot(original, color = 'red', label = 'Real  Stock Price')\n",
    "plt.plot(pred, color = 'blue', label = 'Predicted  Stock Price')\n",
    "plt.title(' Stock Price Prediction')\n",
    "plt.xlabel('Time')\n",
    "plt.ylabel(' Stock Price')\n",
    "plt.legend()\n",
    "plt.show()"
   ]
  },
  {
   "cell_type": "code",
   "execution_count": 120,
   "id": "171c25ec-963a-42a9-a9c3-462b78696ba3",
   "metadata": {
    "tags": []
   },
   "outputs": [
    {
     "data": {
      "text/plain": [
       "(30, 4)"
      ]
     },
     "execution_count": 120,
     "metadata": {},
     "output_type": "execute_result"
    }
   ],
   "source": [
    "df_30_days_past=df.iloc[-30:,:]\n",
    "\n",
    "df_30_days_future=pd.read_csv(\"test.csv\",parse_dates=[\"Date\"],index_col=[0])\n",
    "df_30_days_future.shape"
   ]
  },
  {
   "cell_type": "code",
   "execution_count": 121,
   "id": "ee6cfeca-4b1a-4180-985a-a7819a86d742",
   "metadata": {
    "tags": []
   },
   "outputs": [],
   "source": [
    "df_30_days_future[\"Open\"]=0\n",
    "df_30_days_future=df_30_days_future[[\"Open\",\"High\",\"Low\",\"Close\",\"Adj Close\"]]\n",
    "old_scaled_array=scaler.transform(df_30_days_past)\n",
    "new_scaled_array=scaler.transform(df_30_days_future)\n",
    "new_scaled_df=pd.DataFrame(new_scaled_array)\n",
    "new_scaled_df.iloc[:,0]=np.nan\n",
    "full_df=pd.concat([pd.DataFrame(old_scaled_array),new_scaled_df]).reset_index().drop([\"index\"],axis=1)\n",
    "full_df_scaled_array=full_df.values"
   ]
  },
  {
   "cell_type": "code",
   "execution_count": 122,
   "id": "6587653c-24d0-4e27-a569-3c4c8bab2118",
   "metadata": {
    "tags": []
   },
   "outputs": [
    {
     "name": "stdout",
     "output_type": "stream",
     "text": [
      "1/1 [==============================] - 0s 26ms/step\n",
      "1/1 [==============================] - 0s 23ms/step\n",
      "1/1 [==============================] - 0s 24ms/step\n",
      "1/1 [==============================] - 0s 24ms/step\n",
      "1/1 [==============================] - 0s 24ms/step\n",
      "1/1 [==============================] - 0s 26ms/step\n",
      "1/1 [==============================] - 0s 26ms/step\n",
      "1/1 [==============================] - 0s 23ms/step\n",
      "1/1 [==============================] - 0s 24ms/step\n",
      "1/1 [==============================] - 0s 24ms/step\n",
      "1/1 [==============================] - 0s 24ms/step\n",
      "1/1 [==============================] - 0s 24ms/step\n",
      "1/1 [==============================] - 0s 24ms/step\n",
      "1/1 [==============================] - 0s 24ms/step\n",
      "1/1 [==============================] - 0s 23ms/step\n",
      "1/1 [==============================] - 0s 23ms/step\n",
      "1/1 [==============================] - 0s 25ms/step\n",
      "1/1 [==============================] - 0s 24ms/step\n",
      "1/1 [==============================] - 0s 25ms/step\n",
      "1/1 [==============================] - 0s 23ms/step\n",
      "1/1 [==============================] - 0s 23ms/step\n",
      "1/1 [==============================] - 0s 23ms/step\n",
      "1/1 [==============================] - 0s 24ms/step\n",
      "1/1 [==============================] - 0s 25ms/step\n",
      "1/1 [==============================] - 0s 24ms/step\n",
      "1/1 [==============================] - 0s 23ms/step\n",
      "1/1 [==============================] - 0s 23ms/step\n",
      "1/1 [==============================] - 0s 24ms/step\n",
      "1/1 [==============================] - 0s 21ms/step\n",
      "1/1 [==============================] - 0s 23ms/step\n"
     ]
    }
   ],
   "source": [
    "all_data=[]\n",
    "time_step=30\n",
    "for i in range(time_step,len(full_df_scaled_array)):\n",
    "    data_x=[]\n",
    "    data_x.append(full_df_scaled_array[i-time_step:i,0:full_df_scaled_array.shape[1]])\n",
    "    data_x=np.array(data_x)\n",
    "    prediction=my_model.predict(data_x)\n",
    "    all_data.append(prediction)\n",
    "    full_df.iloc[i,0]=prediction"
   ]
  },
  {
   "cell_type": "code",
   "execution_count": 123,
   "id": "5e9a4913-b224-41d4-aa39-f27e9d66b455",
   "metadata": {
    "tags": []
   },
   "outputs": [
    {
     "data": {
      "text/plain": [
       "[array([0.14918235], dtype=float32),\n",
       " array([0.15065905], dtype=float32),\n",
       " array([0.15187167], dtype=float32),\n",
       " array([0.15272674], dtype=float32),\n",
       " array([0.15312833], dtype=float32),\n",
       " array([0.15283516], dtype=float32),\n",
       " array([0.15294603], dtype=float32),\n",
       " array([0.15303273], dtype=float32),\n",
       " array([0.15285206], dtype=float32),\n",
       " array([0.15190062], dtype=float32),\n",
       " array([0.15058562], dtype=float32),\n",
       " array([0.14955215], dtype=float32),\n",
       " array([0.14939214], dtype=float32),\n",
       " array([0.14941582], dtype=float32),\n",
       " array([0.14973459], dtype=float32),\n",
       " array([0.15050472], dtype=float32),\n",
       " array([0.15067613], dtype=float32),\n",
       " array([0.15059705], dtype=float32),\n",
       " array([0.15088007], dtype=float32),\n",
       " array([0.1523046], dtype=float32),\n",
       " array([0.15284178], dtype=float32),\n",
       " array([0.15297623], dtype=float32),\n",
       " array([0.15293413], dtype=float32),\n",
       " array([0.15336417], dtype=float32),\n",
       " array([0.1540412], dtype=float32),\n",
       " array([0.15444666], dtype=float32),\n",
       " array([0.15447134], dtype=float32),\n",
       " array([0.15561777], dtype=float32),\n",
       " array([0.15717515], dtype=float32),\n",
       " array([0.15998948], dtype=float32)]"
      ]
     },
     "execution_count": 123,
     "metadata": {},
     "output_type": "execute_result"
    }
   ],
   "source": [
    "all_data"
   ]
  },
  {
   "cell_type": "code",
   "execution_count": 136,
   "id": "2828a2bf-e33b-45c2-847e-cb801a19aab8",
   "metadata": {
    "tags": []
   },
   "outputs": [],
   "source": [
    "\n",
    "new_array=np.array(all_data)\n",
    "new_array=new_array.reshape(-1,1)\n",
    "prediction_copies_array = np.repeat(new_array,5, axis=-1)\n",
    "y_pred_future_30_days = scaler.inverse_transform(np.reshape(prediction_copies_array,(len(new_array),5)))"
   ]
  },
  {
   "cell_type": "code",
   "execution_count": 142,
   "id": "971fcfb7-1d9e-401c-a832-3ace5d7f6665",
   "metadata": {
    "tags": []
   },
   "outputs": [
    {
     "data": {
      "text/plain": [
       "array([[105.1697  , 108.37752 ,  98.89391 , 104.86757 ,  66.1083  ],\n",
       "       [105.69677 , 108.904366,  99.425865, 105.3985  ,  66.39593 ],\n",
       "       [106.12958 , 109.33698 ,  99.86269 , 105.83447 ,  66.63212 ],\n",
       "       [106.43478 , 109.64205 , 100.170715, 106.14191 ,  66.798676],\n",
       "       [106.57811 , 109.785324, 100.31538 , 106.28629 ,  66.87689 ],\n",
       "       [106.47347 , 109.68073 , 100.20977 , 106.18089 ,  66.81979 ],\n",
       "       [106.51305 , 109.72028 , 100.2497  , 106.22075 ,  66.841385],\n",
       "       [106.54399 , 109.75121 , 100.280945, 106.25192 ,  66.85828 ],\n",
       "       [106.47951 , 109.68676 , 100.21586 , 106.186966,  66.82308 ],\n",
       "       [106.139915, 109.34731 ,  99.873116, 105.84489 ,  66.637764],\n",
       "       [105.67056 , 108.87817 ,  99.399414, 105.37209 ,  66.38163 ],\n",
       "       [105.30169 , 108.50945 ,  99.02713 , 105.00052 ,  66.18033 ],\n",
       "       [105.244576, 108.45236 ,  98.96949 , 104.942986,  66.149155],\n",
       "       [105.25304 , 108.460815,  98.97802 , 104.95151 ,  66.15377 ],\n",
       "       [105.366806, 108.57454 ,  99.09285 , 105.06612 ,  66.215866],\n",
       "       [105.641685, 108.8493  ,  99.37028 , 105.343   ,  66.36587 ],\n",
       "       [105.702866, 108.91045 ,  99.43202 , 105.40464 ,  66.399254],\n",
       "       [105.67464 , 108.88224 ,  99.40354 , 105.3762  ,  66.38385 ],\n",
       "       [105.77566 , 108.983215,  99.505486, 105.47796 ,  66.43898 ],\n",
       "       [106.2841  , 109.49144 , 100.018654, 105.99013 ,  66.716446],\n",
       "       [106.47584 , 109.68309 , 100.21215 , 106.18327 ,  66.82108 ],\n",
       "       [106.52382 , 109.73106 , 100.26059 , 106.231606,  66.84727 ],\n",
       "       [106.5088  , 109.71604 , 100.24542 , 106.21648 ,  66.83907 ],\n",
       "       [106.662285, 109.86946 , 100.40034 , 106.371086,  66.92283 ],\n",
       "       [106.90394 , 110.11101 , 100.64422 , 106.61451 ,  67.0547  ],\n",
       "       [107.04865 , 110.25567 , 100.79028 , 106.760284,  67.13368 ],\n",
       "       [107.057465, 110.264465, 100.79917 , 106.76916 ,  67.13849 ],\n",
       "       [107.46665 , 110.673485, 101.21215 , 107.18135 ,  67.361786],\n",
       "       [108.022514, 111.22911 , 101.77317 , 107.74129 ,  67.66514 ],\n",
       "       [109.027016, 112.23317 , 102.78697 , 108.75314 ,  68.21331 ]],\n",
       "      dtype=float32)"
      ]
     },
     "execution_count": 142,
     "metadata": {},
     "output_type": "execute_result"
    }
   ],
   "source": [
    "y_pred_future_30_days"
   ]
  },
  {
   "cell_type": "code",
   "execution_count": 143,
   "id": "626196dc-660c-4616-967e-df8067807223",
   "metadata": {
    "tags": []
   },
   "outputs": [],
   "source": [
    "Close = list(df_30_days_future['Close'])"
   ]
  },
  {
   "cell_type": "code",
   "execution_count": 144,
   "id": "f6b2ea89-e674-48a6-9739-525e9264c0af",
   "metadata": {
    "tags": []
   },
   "outputs": [
    {
     "data": {
      "text/html": [
       "<div>\n",
       "<style scoped>\n",
       "    .dataframe tbody tr th:only-of-type {\n",
       "        vertical-align: middle;\n",
       "    }\n",
       "\n",
       "    .dataframe tbody tr th {\n",
       "        vertical-align: top;\n",
       "    }\n",
       "\n",
       "    .dataframe thead th {\n",
       "        text-align: right;\n",
       "    }\n",
       "</style>\n",
       "<table border=\"1\" class=\"dataframe\">\n",
       "  <thead>\n",
       "    <tr style=\"text-align: right;\">\n",
       "      <th></th>\n",
       "      <th>Open</th>\n",
       "      <th>High</th>\n",
       "      <th>Low</th>\n",
       "      <th>Close</th>\n",
       "      <th>Adj Close</th>\n",
       "    </tr>\n",
       "    <tr>\n",
       "      <th>Date</th>\n",
       "      <th></th>\n",
       "      <th></th>\n",
       "      <th></th>\n",
       "      <th></th>\n",
       "      <th></th>\n",
       "    </tr>\n",
       "  </thead>\n",
       "  <tbody>\n",
       "    <tr>\n",
       "      <th>2021-09-30</th>\n",
       "      <td>0</td>\n",
       "      <td>107.089996</td>\n",
       "      <td>102.949997</td>\n",
       "      <td>103.029999</td>\n",
       "      <td>102.939865</td>\n",
       "    </tr>\n",
       "    <tr>\n",
       "      <th>2021-10-01</th>\n",
       "      <td>0</td>\n",
       "      <td>106.389999</td>\n",
       "      <td>103.669998</td>\n",
       "      <td>105.820000</td>\n",
       "      <td>105.727425</td>\n",
       "    </tr>\n",
       "    <tr>\n",
       "      <th>2021-10-04</th>\n",
       "      <td>0</td>\n",
       "      <td>107.080002</td>\n",
       "      <td>104.599998</td>\n",
       "      <td>104.900002</td>\n",
       "      <td>104.808235</td>\n",
       "    </tr>\n",
       "    <tr>\n",
       "      <th>2021-10-05</th>\n",
       "      <td>0</td>\n",
       "      <td>106.000000</td>\n",
       "      <td>103.750000</td>\n",
       "      <td>104.900002</td>\n",
       "      <td>104.808235</td>\n",
       "    </tr>\n",
       "    <tr>\n",
       "      <th>2021-10-06</th>\n",
       "      <td>0</td>\n",
       "      <td>104.419998</td>\n",
       "      <td>102.059998</td>\n",
       "      <td>104.330002</td>\n",
       "      <td>104.238731</td>\n",
       "    </tr>\n",
       "    <tr>\n",
       "      <th>2021-10-07</th>\n",
       "      <td>0</td>\n",
       "      <td>106.529999</td>\n",
       "      <td>104.330002</td>\n",
       "      <td>105.510002</td>\n",
       "      <td>105.417702</td>\n",
       "    </tr>\n",
       "    <tr>\n",
       "      <th>2021-10-08</th>\n",
       "      <td>0</td>\n",
       "      <td>106.220001</td>\n",
       "      <td>104.660004</td>\n",
       "      <td>104.720001</td>\n",
       "      <td>104.628387</td>\n",
       "    </tr>\n",
       "    <tr>\n",
       "      <th>2021-10-11</th>\n",
       "      <td>0</td>\n",
       "      <td>105.760002</td>\n",
       "      <td>103.970001</td>\n",
       "      <td>104.080002</td>\n",
       "      <td>103.988953</td>\n",
       "    </tr>\n",
       "    <tr>\n",
       "      <th>2021-10-12</th>\n",
       "      <td>0</td>\n",
       "      <td>104.040001</td>\n",
       "      <td>101.559998</td>\n",
       "      <td>102.720001</td>\n",
       "      <td>102.630142</td>\n",
       "    </tr>\n",
       "    <tr>\n",
       "      <th>2021-10-13</th>\n",
       "      <td>0</td>\n",
       "      <td>103.199997</td>\n",
       "      <td>101.180000</td>\n",
       "      <td>102.360001</td>\n",
       "      <td>102.270454</td>\n",
       "    </tr>\n",
       "    <tr>\n",
       "      <th>2021-10-14</th>\n",
       "      <td>0</td>\n",
       "      <td>103.650002</td>\n",
       "      <td>102.370003</td>\n",
       "      <td>102.739998</td>\n",
       "      <td>102.650116</td>\n",
       "    </tr>\n",
       "    <tr>\n",
       "      <th>2021-10-15</th>\n",
       "      <td>0</td>\n",
       "      <td>105.900002</td>\n",
       "      <td>103.190002</td>\n",
       "      <td>104.410004</td>\n",
       "      <td>104.318665</td>\n",
       "    </tr>\n",
       "    <tr>\n",
       "      <th>2021-10-18</th>\n",
       "      <td>0</td>\n",
       "      <td>104.570000</td>\n",
       "      <td>103.040001</td>\n",
       "      <td>104.120003</td>\n",
       "      <td>104.028915</td>\n",
       "    </tr>\n",
       "    <tr>\n",
       "      <th>2021-10-19</th>\n",
       "      <td>0</td>\n",
       "      <td>104.970001</td>\n",
       "      <td>103.580002</td>\n",
       "      <td>104.730003</td>\n",
       "      <td>104.638382</td>\n",
       "    </tr>\n",
       "    <tr>\n",
       "      <th>2021-10-20</th>\n",
       "      <td>0</td>\n",
       "      <td>106.019997</td>\n",
       "      <td>103.870003</td>\n",
       "      <td>106.000000</td>\n",
       "      <td>105.907272</td>\n",
       "    </tr>\n",
       "    <tr>\n",
       "      <th>2021-10-21</th>\n",
       "      <td>0</td>\n",
       "      <td>106.389999</td>\n",
       "      <td>103.010002</td>\n",
       "      <td>103.150002</td>\n",
       "      <td>103.059761</td>\n",
       "    </tr>\n",
       "    <tr>\n",
       "      <th>2021-10-22</th>\n",
       "      <td>0</td>\n",
       "      <td>104.510002</td>\n",
       "      <td>102.550003</td>\n",
       "      <td>104.050003</td>\n",
       "      <td>103.958977</td>\n",
       "    </tr>\n",
       "    <tr>\n",
       "      <th>2021-10-25</th>\n",
       "      <td>0</td>\n",
       "      <td>105.989998</td>\n",
       "      <td>103.330002</td>\n",
       "      <td>105.300003</td>\n",
       "      <td>105.207886</td>\n",
       "    </tr>\n",
       "    <tr>\n",
       "      <th>2021-10-26</th>\n",
       "      <td>0</td>\n",
       "      <td>110.970001</td>\n",
       "      <td>105.220001</td>\n",
       "      <td>107.440002</td>\n",
       "      <td>107.346008</td>\n",
       "    </tr>\n",
       "    <tr>\n",
       "      <th>2021-10-27</th>\n",
       "      <td>0</td>\n",
       "      <td>108.279999</td>\n",
       "      <td>103.690002</td>\n",
       "      <td>103.849998</td>\n",
       "      <td>103.759148</td>\n",
       "    </tr>\n",
       "    <tr>\n",
       "      <th>2021-10-28</th>\n",
       "      <td>0</td>\n",
       "      <td>105.379997</td>\n",
       "      <td>103.099998</td>\n",
       "      <td>105.260002</td>\n",
       "      <td>105.167915</td>\n",
       "    </tr>\n",
       "    <tr>\n",
       "      <th>2021-10-29</th>\n",
       "      <td>0</td>\n",
       "      <td>105.239998</td>\n",
       "      <td>104.120003</td>\n",
       "      <td>104.870003</td>\n",
       "      <td>104.778259</td>\n",
       "    </tr>\n",
       "    <tr>\n",
       "      <th>2021-11-01</th>\n",
       "      <td>0</td>\n",
       "      <td>106.769997</td>\n",
       "      <td>105.279999</td>\n",
       "      <td>106.230003</td>\n",
       "      <td>106.137070</td>\n",
       "    </tr>\n",
       "    <tr>\n",
       "      <th>2021-11-02</th>\n",
       "      <td>0</td>\n",
       "      <td>107.139999</td>\n",
       "      <td>105.300003</td>\n",
       "      <td>106.690002</td>\n",
       "      <td>106.596664</td>\n",
       "    </tr>\n",
       "    <tr>\n",
       "      <th>2021-11-03</th>\n",
       "      <td>0</td>\n",
       "      <td>106.339996</td>\n",
       "      <td>104.820000</td>\n",
       "      <td>105.970001</td>\n",
       "      <td>105.877296</td>\n",
       "    </tr>\n",
       "    <tr>\n",
       "      <th>2021-11-04</th>\n",
       "      <td>0</td>\n",
       "      <td>106.400002</td>\n",
       "      <td>104.290001</td>\n",
       "      <td>105.209999</td>\n",
       "      <td>105.117958</td>\n",
       "    </tr>\n",
       "    <tr>\n",
       "      <th>2021-11-05</th>\n",
       "      <td>0</td>\n",
       "      <td>109.650002</td>\n",
       "      <td>106.849998</td>\n",
       "      <td>108.739998</td>\n",
       "      <td>108.644867</td>\n",
       "    </tr>\n",
       "    <tr>\n",
       "      <th>2021-11-08</th>\n",
       "      <td>0</td>\n",
       "      <td>110.309998</td>\n",
       "      <td>108.320000</td>\n",
       "      <td>108.419998</td>\n",
       "      <td>108.325150</td>\n",
       "    </tr>\n",
       "    <tr>\n",
       "      <th>2021-11-09</th>\n",
       "      <td>0</td>\n",
       "      <td>116.169998</td>\n",
       "      <td>110.480003</td>\n",
       "      <td>111.290001</td>\n",
       "      <td>111.192642</td>\n",
       "    </tr>\n",
       "    <tr>\n",
       "      <th>2021-11-10</th>\n",
       "      <td>0</td>\n",
       "      <td>112.680000</td>\n",
       "      <td>108.110001</td>\n",
       "      <td>108.959999</td>\n",
       "      <td>108.864677</td>\n",
       "    </tr>\n",
       "  </tbody>\n",
       "</table>\n",
       "</div>"
      ],
      "text/plain": [
       "            Open        High         Low       Close   Adj Close\n",
       "Date                                                            \n",
       "2021-09-30     0  107.089996  102.949997  103.029999  102.939865\n",
       "2021-10-01     0  106.389999  103.669998  105.820000  105.727425\n",
       "2021-10-04     0  107.080002  104.599998  104.900002  104.808235\n",
       "2021-10-05     0  106.000000  103.750000  104.900002  104.808235\n",
       "2021-10-06     0  104.419998  102.059998  104.330002  104.238731\n",
       "2021-10-07     0  106.529999  104.330002  105.510002  105.417702\n",
       "2021-10-08     0  106.220001  104.660004  104.720001  104.628387\n",
       "2021-10-11     0  105.760002  103.970001  104.080002  103.988953\n",
       "2021-10-12     0  104.040001  101.559998  102.720001  102.630142\n",
       "2021-10-13     0  103.199997  101.180000  102.360001  102.270454\n",
       "2021-10-14     0  103.650002  102.370003  102.739998  102.650116\n",
       "2021-10-15     0  105.900002  103.190002  104.410004  104.318665\n",
       "2021-10-18     0  104.570000  103.040001  104.120003  104.028915\n",
       "2021-10-19     0  104.970001  103.580002  104.730003  104.638382\n",
       "2021-10-20     0  106.019997  103.870003  106.000000  105.907272\n",
       "2021-10-21     0  106.389999  103.010002  103.150002  103.059761\n",
       "2021-10-22     0  104.510002  102.550003  104.050003  103.958977\n",
       "2021-10-25     0  105.989998  103.330002  105.300003  105.207886\n",
       "2021-10-26     0  110.970001  105.220001  107.440002  107.346008\n",
       "2021-10-27     0  108.279999  103.690002  103.849998  103.759148\n",
       "2021-10-28     0  105.379997  103.099998  105.260002  105.167915\n",
       "2021-10-29     0  105.239998  104.120003  104.870003  104.778259\n",
       "2021-11-01     0  106.769997  105.279999  106.230003  106.137070\n",
       "2021-11-02     0  107.139999  105.300003  106.690002  106.596664\n",
       "2021-11-03     0  106.339996  104.820000  105.970001  105.877296\n",
       "2021-11-04     0  106.400002  104.290001  105.209999  105.117958\n",
       "2021-11-05     0  109.650002  106.849998  108.739998  108.644867\n",
       "2021-11-08     0  110.309998  108.320000  108.419998  108.325150\n",
       "2021-11-09     0  116.169998  110.480003  111.290001  111.192642\n",
       "2021-11-10     0  112.680000  108.110001  108.959999  108.864677"
      ]
     },
     "execution_count": 144,
     "metadata": {},
     "output_type": "execute_result"
    }
   ],
   "source": [
    "df_30_days_future"
   ]
  },
  {
   "cell_type": "code",
   "execution_count": 145,
   "id": "cd85b728-bece-4657-a6ed-bb02185fd8b0",
   "metadata": {
    "tags": []
   },
   "outputs": [
    {
     "data": {
      "image/png": "[encoded data removed]",
      "text/plain": [
       "<Figure size 640x480 with 1 Axes>"
      ]
     },
     "metadata": {},
     "output_type": "display_data"
    }
   ],
   "source": [
    "plt.plot(Close, color = 'red', label = 'Real  Stock Price')\n",
    "plt.plot(y_pred_future_30_days[:,-2], color = 'blue', label = 'Predicted  Stock Price')\n",
    "plt.title(' Stock Price Prediction')\n",
    "plt.xlabel('Time')\n",
    "plt.ylabel(' Stock Price')\n",
    "plt.legend()\n",
    "plt.show()"
   ]
  },
  {
   "cell_type": "code",
   "execution_count": null,
   "id": "eb563064-a297-49b9-ae6d-7ca371d290e2",
   "metadata": {},
   "outputs": [],
   "source": []
  }
 ],
 "metadata": {
  "kernelspec": {
   "display_name": "Python 3 (ipykernel)",
   "language": "python",
   "name": "python3"
  },
  "language_info": {
   "codemirror_mode": {
    "name": "ipython",
    "version": 3
   },
   "file_extension": ".py",
   "mimetype": "text/x-python",
   "name": "python",
   "nbconvert_exporter": "python",
   "pygments_lexer": "ipython3",
   "version": "3.9.16"
  }
 },
 "nbformat": 4,
 "nbformat_minor": 5
}

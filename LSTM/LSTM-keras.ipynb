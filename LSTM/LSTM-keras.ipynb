{
 "cells": [
  {
   "cell_type": "code",
   "execution_count": 1,
   "id": "6b4c2952-0792-44bd-89a0-d482728aeb17",
   "metadata": {
    "tags": []
   },
   "outputs": [
    {
     "name": "stderr",
     "output_type": "stream",
     "text": [
      "2023-10-02 20:54:17.620758: I tensorflow/tsl/cuda/cudart_stub.cc:28] Could not find cuda drivers on your machine, GPU will not be used.\n",
      "2023-10-02 20:54:17.674705: I tensorflow/tsl/cuda/cudart_stub.cc:28] Could not find cuda drivers on your machine, GPU will not be used.\n",
      "2023-10-02 20:54:17.676320: I tensorflow/core/platform/cpu_feature_guard.cc:182] This TensorFlow binary is optimized to use available CPU instructions in performance-critical operations.\n",
      "To enable the following instructions: AVX2 FMA, in other operations, rebuild TensorFlow with the appropriate compiler flags.\n",
      "2023-10-02 20:54:18.790147: W tensorflow/compiler/tf2tensorrt/utils/py_utils.cc:38] TF-TRT Warning: Could not find TensorRT\n"
     ]
    }
   ],
   "source": [
    "import numpy as np\n",
    "from tensorflow.keras.models import Sequential\n",
    "from tensorflow.keras.layers import LSTM\n",
    "from tensorflow.keras.layers import Dense, Dropout\n",
    "import pandas as pd\n",
    "from matplotlib import pyplot as plt\n",
    "from sklearn.preprocessing import MinMaxScaler\n",
    "import seaborn as sns"
   ]
  },
  {
   "cell_type": "markdown",
   "id": "3551c3b1-2078-4082-bfa8-ab61b6401b59",
   "metadata": {
    "tags": []
   },
   "source": [
    "## 1. Data preparation \n",
    "Input datat: [Open, Close, Max, Min, Volume]*14 days.\n",
    "\n",
    "Output: Candlestick of 15th day."
   ]
  },
  {
   "cell_type": "code",
   "execution_count": 25,
   "id": "365990db-3b10-4310-8cea-aa6d3f180764",
   "metadata": {
    "tags": []
   },
   "outputs": [
    {
     "name": "stdout",
     "output_type": "stream",
     "text": [
      "(1247, 5) (number of data for training, dim)\n",
      "(138, 5) (number of data for test, dim)\n"
     ]
    }
   ],
   "source": [
    "df = pd.read_csv(\"./600029.SS.csv\",parse_dates=[\"Date\"],index_col=[0])[['Open','Close','High','Low','Volume']]\n",
    "df = df.iloc[::-1]\n",
    "# Split test and train\n",
    "ntest = round(len(df)*0.10)  # 20% are test set\n",
    "df_for_training=df[:-ntest]\n",
    "df_for_testing=df[-ntest:]\n",
    "\n",
    "print(df_for_training.shape,'(number of data for training, dim)')\n",
    "print(df_for_testing.shape,'(number of data for test, dim)')"
   ]
  },
  {
   "cell_type": "code",
   "execution_count": 26,
   "id": "333f0440-b881-49b7-80fa-a2e43309686a",
   "metadata": {
    "tags": []
   },
   "outputs": [],
   "source": [
    "# Scale the data by using MinMaxScaler\n",
    "scaler = MinMaxScaler(feature_range=(0,1))\n",
    "df_for_training_scaled = scaler.fit_transform(df_for_training)\n",
    "df_for_testing_scaled=scaler.transform(df_for_testing)"
   ]
  },
  {
   "cell_type": "code",
   "execution_count": 39,
   "id": "2b2cd3d9-04f6-4829-ba65-25f3bd681d05",
   "metadata": {
    "tags": []
   },
   "outputs": [],
   "source": [
    "# Use previous 30 days data to predict 31st day open price\n",
    "def createXY(dataset,n_past):\n",
    "    dataX = []\n",
    "    dataY = []\n",
    "    for i in range(n_past, len(dataset)):\n",
    "            dataX.append(dataset[i - n_past:i, 0:dataset.shape[1]])\n",
    "            dataY.append(dataset[i,0:4])\n",
    "    return np.array(dataX),np.array(dataY)\n",
    "trainX,trainY=createXY(df_for_training_scaled,14)\n",
    "testX,testY=createXY(df_for_testing_scaled,14)"
   ]
  },
  {
   "cell_type": "code",
   "execution_count": 47,
   "id": "660bd4ba-6d79-4d92-b1bd-ccd7af9b5690",
   "metadata": {
    "tags": []
   },
   "outputs": [
    {
     "name": "stdout",
     "output_type": "stream",
     "text": [
      "Model: \"sequential_3\"\n",
      "_________________________________________________________________\n",
      " Layer (type)                Output Shape              Param #   \n",
      "=================================================================\n",
      " lstm_6 (LSTM)               (None, 14, 50)            11200     \n",
      "                                                                 \n",
      " lstm_7 (LSTM)               (None, 100)               60400     \n",
      "                                                                 \n",
      " dropout_6 (Dropout)         (None, 100)               0         \n",
      "                                                                 \n",
      " dense_6 (Dense)             (None, 50)                5050      \n",
      "                                                                 \n",
      " dropout_7 (Dropout)         (None, 50)                0         \n",
      "                                                                 \n",
      " dense_7 (Dense)             (None, 4)                 204       \n",
      "                                                                 \n",
      "=================================================================\n",
      "Total params: 76854 (300.21 KB)\n",
      "Trainable params: 76854 (300.21 KB)\n",
      "Non-trainable params: 0 (0.00 Byte)\n",
      "_________________________________________________________________\n"
     ]
    }
   ],
   "source": [
    "# Define a function to create the LSTM model\n",
    "from tensorflow.keras.optimizers import SGD\n",
    "\n",
    "def create_lstm_model(units=50, optimizer='adam'):\n",
    "    model = Sequential()\n",
    "    model.add(LSTM(units=units, return_sequences=True, input_shape=(14, 5)))\n",
    "    #model.add(LSTM(units=units, return_sequences=True))\n",
    "    model.add(LSTM(units=100, return_sequences=False))\n",
    "    model.add(Dropout(0.2))\n",
    "    model.add(Dense(units=50, activation='ReLU'))\n",
    "    model.add(Dropout(0.1))\n",
    "    model.add(Dense(units=4, activation='linear'))\n",
    "    model.compile(optimizer=optimizer, loss='mean_squared_error')\n",
    "    return model\n",
    "\n",
    "Model = create_lstm_model()\n",
    "Model.summary()"
   ]
  },
  {
   "cell_type": "code",
   "execution_count": null,
   "id": "d9a5673f-1957-4dee-a7f9-843db3b9c0e7",
   "metadata": {
    "tags": []
   },
   "outputs": [],
   "source": [
    "#callback = tensorflow.keras.callbacks.EarlyStopping(monitor='adams', patience=8)\n",
    "\n",
    "Model.compile(optimizer='adam', loss='mean_squared_error')\n",
    "history = Model.fit(trainX,  # Input features\n",
    "                    trainY,  # Target labels\n",
    "                    epochs=400,  # Number of training iterations\n",
    "                    batch_size=20,  # Mini-batch size (optional)\n",
    "                    #callbacks=[callback],  # Early stop\n",
    "                    validation_split=0.1,)  # Validation data (optional)"
   ]
  },
  {
   "cell_type": "code",
   "execution_count": 50,
   "id": "6740da8f-1290-47d7-962f-69c6e433fa69",
   "metadata": {
    "tags": []
   },
   "outputs": [
    {
     "data": {
      "image/png": "[encoded data removed]",
      "text/plain": [
       "<Figure size 640x480 with 1 Axes>"
      ]
     },
     "metadata": {},
     "output_type": "display_data"
    }
   ],
   "source": [
    "\n",
    "# Plot training & validation loss values\n",
    "plt.plot(history.history['loss'])\n",
    "plt.plot(history.history['val_loss'])\n",
    "plt.title('Model loss')\n",
    "plt.xlabel('Epoch')\n",
    "plt.ylabel('Loss')\n",
    "plt.legend(['Train', 'Validation'], loc='upper right')\n",
    "plt.show()"
   ]
  },
  {
   "cell_type": "code",
   "execution_count": 51,
   "id": "59cfa453-d855-4730-8483-8167b6069e59",
   "metadata": {
    "tags": []
   },
   "outputs": [
    {
     "data": {
      "text/plain": [
       "array([0.34010152, 0.33759594, 0.33417404, 0.36413798])"
      ]
     },
     "execution_count": 51,
     "metadata": {},
     "output_type": "execute_result"
    }
   ],
   "source": [
    "trainY[-1]"
   ]
  },
  {
   "cell_type": "code",
   "execution_count": 52,
   "id": "319e20c0-edea-49b3-ad67-2a02a5bd2328",
   "metadata": {
    "tags": []
   },
   "outputs": [
    {
     "name": "stdout",
     "output_type": "stream",
     "text": [
      "4/4 [==============================] - 1s 10ms/step\n",
      "prediction\n",
      "\n",
      "\n",
      "Prediction Shape- (124, 4)\n"
     ]
    },
    {
     "data": {
      "text/plain": [
       "(124, 4)"
      ]
     },
     "execution_count": 52,
     "metadata": {},
     "output_type": "execute_result"
    }
   ],
   "source": [
    "prediction=Model.predict(testX)\n",
    "#prediction = prediction.reshape((len(prediction),1))\n",
    "print(\"prediction\\n\", )\n",
    "print(\"\\nPrediction Shape-\",prediction.shape)\n",
    "prediction.shape"
   ]
  },
  {
   "cell_type": "code",
   "execution_count": 71,
   "id": "ca5d4451-6461-4572-95cb-87a528421bc5",
   "metadata": {
    "tags": []
   },
   "outputs": [
    {
     "name": "stdout",
     "output_type": "stream",
     "text": [
      "(124, 5)\n",
      "(124, 5)\n"
     ]
    },
    {
     "data": {
      "image/png": "[encoded data removed]",
      "text/plain": [
       "<Figure size 640x480 with 1 Axes>"
      ]
     },
     "metadata": {},
     "output_type": "display_data"
    }
   ],
   "source": [
    "'''\n",
    "prediction_copies_array = np.repeat(prediction,5, axis=-1)\n",
    "print(prediction_copies_array.shape)\n",
    "pred=scaler.inverse_transform(np.reshape(prediction_copies_array,(len(prediction),20)))[:,0:4]\n",
    "\n",
    "original_copies_array = np.repeat(testY,5, axis=-1)\n",
    "print(original_copies_array.shape)\n",
    "original=scaler.inverse_transform(np.reshape(original_copies_array,(len(testY),20)))[:,0:4]\n",
    "'''\n",
    "\n",
    "prediction_copies_array = np.hstack((prediction, np.zeros((len(prediction),1)) ))\n",
    "print(prediction_copies_array.shape)\n",
    "pred=scaler.inverse_transform(np.reshape(prediction_copies_array,(len(prediction),5)))[:,0:4]\n",
    "\n",
    "original_copies_array = np.hstack((testY, np.zeros((len(testY),1)) ))\n",
    "print(original_copies_array.shape)\n",
    "original=scaler.inverse_transform(np.reshape(original_copies_array,(len(testY),5)))[:,0:4]\n",
    "\n",
    "\n",
    "import matplotlib.pyplot as plt\n",
    "plt.plot(original, '.-', color = 'red', label = 'Real  Stock Price')\n",
    "plt.plot(pred, '.-',color = 'blue', label = 'Predicted  Stock Price')\n",
    "plt.title(' Stock Price Prediction')\n",
    "plt.xlabel('Time')\n",
    "plt.ylabel(' Stock Price')\n",
    "plt.legend()\n",
    "plt.show()"
   ]
  },
  {
   "cell_type": "code",
   "execution_count": 84,
   "id": "787f1cca-876a-4166-9ef8-3bb1901d8ff4",
   "metadata": {},
   "outputs": [
    {
     "data": {
      "application/vnd.plotly.v1+json": {
       "config": {
        "plotlyServerURL": "https://plot.ly"
       },
       "data": [
        {
         "close": [
          7.909999847412109,
          7.739999771118164,
          7.730000019073486,
          7.71999979019165,
          7.639999866485596,
          7.480000019073486,
          7.519999980926514,
          7.5,
          7.559999942779541,
          7.9000000953674325,
          7.869999885559083,
          8.149999618530273,
          8.180000305175781,
          8.140000343322754,
          8.210000038146973,
          8.180000305175781,
          8.039999961853027,
          8.050000190734863,
          8,
          7.9600000381469735,
          8.15999984741211,
          8.029999732971191,
          7.9000000953674325,
          7.809999942779541,
          7.659999847412109,
          7.590000152587891,
          7.460000038146973,
          7.539999961853027,
          7.599999904632568,
          7.75,
          7.21999979019165,
          7.239999771118164,
          7.090000152587891,
          7.03000020980835,
          6.900000095367432,
          6.920000076293945,
          6.820000171661377,
          6.920000076293945,
          6.909999847412109,
          6.78000020980835,
          6.800000190734863,
          6.869999885559082,
          6.869999885559082,
          6.670000076293945,
          6.429999828338623,
          6.360000133514404,
          6.320000171661377,
          6.329999923706055,
          6.269999980926514,
          6.269999980926514,
          5.789999961853027,
          5.789999961853027,
          5.889999866485596,
          5.840000152587891,
          5.860000133514404,
          5.900000095367432,
          5.929999828338623,
          6.070000171661377,
          6.110000133514404,
          6.03000020980835,
          6.110000133514404,
          6.21999979019165,
          6.25,
          6.190000057220459,
          6.139999866485596,
          6,
          6.079999923706055,
          6.150000095367432,
          5.949999809265137,
          6.03000020980835,
          6.369999885559082,
          6.389999866485596,
          6.329999923706055,
          6.360000133514404,
          6.449999809265137,
          6.46999979019165,
          6.5,
          6.369999885559082,
          6.389999866485596,
          6.360000133514404,
          6.440000057220459,
          6.599999904632568,
          6.519999980926514,
          6.429999828338623,
          6.420000076293945,
          6.599999904632568,
          6.840000152587891,
          6.769999980926514,
          6.809999942779541,
          6.869999885559082,
          6.989999771118164,
          6.949999809265137,
          6.880000114440918,
          6.860000133514404,
          6.769999980926514,
          6.769999980926514,
          6.809999942779541,
          6.739999771118164,
          7.019999980926514,
          6.880000114440918,
          6.909999847412109,
          6.829999923706055,
          6.739999771118164,
          6.769999980926514,
          6.690000057220459,
          6.480000019073486,
          6.510000228881836,
          6.380000114440918,
          6.480000019073486,
          6.360000133514404,
          6.340000152587891,
          6.510000228881836,
          6.309999942779541,
          6.320000171661377,
          6.429999828338623,
          6.460000038146973,
          6.409999847412109,
          6.21999979019165,
          6.25,
          6.260000228881836,
          6.360000133514404,
          6.400000095367432,
          6.360000133514404,
          6.429999828338623
         ],
         "high": [
          8.09000015258789,
          7.949999809265137,
          7.829999923706055,
          7.78000020980835,
          7.71999979019165,
          7.679999828338623,
          7.559999942779541,
          7.599999904632568,
          7.75,
          7.929999828338622,
          7.980000019073487,
          8.180000305175781,
          8.420000076293945,
          8.210000038146973,
          8.319999694824219,
          8.270000457763672,
          8.220000267028809,
          8.109999656677246,
          8.109999656677246,
          8.100000381469727,
          8.25,
          8.199999809265137,
          8.079999923706055,
          7.929999828338622,
          7.860000133514404,
          7.730000019073486,
          7.71999979019165,
          7.599999904632568,
          7.650000095367432,
          7.760000228881836,
          7.679999828338623,
          7.320000171661377,
          7.269999980926514,
          7.199999809265137,
          7.039999961853027,
          6.96999979019165,
          6.900000095367432,
          6.949999809265137,
          7.019999980926514,
          6.949999809265137,
          6.929999828338623,
          6.889999866485596,
          6.940000057220459,
          6.889999866485596,
          6.659999847412109,
          6.420000076293945,
          6.369999885559082,
          6.400000095367432,
          6.320000171661377,
          6.360000133514404,
          6.269999980926514,
          5.849999904632568,
          5.900000095367432,
          5.949999809265137,
          5.900000095367432,
          5.909999847412109,
          6.03000020980835,
          6.150000095367432,
          6.210000038146973,
          6.159999847412109,
          6.119999885559082,
          6.239999771118164,
          6.389999866485596,
          6.28000020980835,
          6.25,
          6.110000133514404,
          6.119999885559082,
          6.170000076293945,
          6.119999885559082,
          6.070000171661377,
          6.420000076293945,
          6.440000057220459,
          6.400000095367432,
          6.460000038146973,
          6.539999961853027,
          6.559999942779541,
          6.53000020980835,
          6.519999980926514,
          6.5,
          6.420000076293945,
          6.480000019073486,
          6.639999866485596,
          6.630000114440918,
          6.570000171661377,
          6.519999980926514,
          6.679999828338623,
          6.940000057220459,
          6.869999885559082,
          6.869999885559082,
          6.880000114440918,
          7.079999923706055,
          7.079999923706055,
          7.010000228881836,
          6.869999885559082,
          6.960000038146973,
          6.789999961853027,
          6.829999923706055,
          6.840000152587891,
          7.039999961853027,
          7.119999885559082,
          7,
          6.920000076293945,
          6.820000171661377,
          6.78000020980835,
          6.800000190734863,
          6.679999828338623,
          6.539999961853027,
          6.579999923706055,
          6.590000152587891,
          6.46999979019165,
          6.699999809265137,
          6.539999961853027,
          6.519999980926514,
          6.380000114440918,
          6.480000019073486,
          6.5,
          6.449999809265137,
          6.409999847412109,
          6.340000152587891,
          6.28000020980835,
          6.380000114440918,
          6.480000019073486,
          6.440000057220459,
          6.460000038146973
         ],
         "low": [
          7.78000020980835,
          7.710000038146972,
          7.670000076293946,
          7.679999828338623,
          7.5399999618530265,
          7.400000095367432,
          7.380000114440918,
          7.480000019073487,
          7.449999809265137,
          7.5999999046325675,
          7.8400001525878915,
          7.8400001525878915,
          7.989999771118163,
          8.09000015258789,
          8.09000015258789,
          8,
          7.989999771118163,
          8.010000228881836,
          7.900000095367431,
          7.929999828338624,
          7.960000038146973,
          7.980000019073486,
          7.860000133514403,
          7.769999980926514,
          7.6500000953674325,
          7.480000019073487,
          7.360000133514404,
          7.460000038146973,
          7.46999979019165,
          7.500000000000001,
          7.190000057220459,
          7.139999866485596,
          6.980000019073486,
          7.010000228881836,
          6.860000133514404,
          6.880000114440918,
          6.789999961853027,
          6.71999979019165,
          6.869999885559082,
          6.739999771118164,
          6.78000020980835,
          6.739999771118164,
          6.789999961853027,
          6.670000076293945,
          6.400000095367432,
          6.309999942779541,
          6.260000228881836,
          6.300000190734863,
          6.159999847412109,
          6.21999979019165,
          5.78000020980835,
          5.690000057220459,
          5.710000038146973,
          5.829999923706055,
          5.789999961853027,
          5.78000020980835,
          5.889999866485596,
          5.889999866485596,
          6.050000190734863,
          6.019999980926514,
          6,
          6.119999885559082,
          6.190000057220459,
          6.159999847412109,
          6.119999885559082,
          5.949999809265137,
          5.989999771118164,
          6.03000020980835,
          5.929999828338623,
          5.940000057220459,
          6.050000190734863,
          6.309999942779541,
          6.260000228881836,
          6.289999961853027,
          6.309999942779541,
          6.380000114440918,
          6.400000095367432,
          6.340000152587891,
          6.369999885559082,
          6.340000152587891,
          6.320000171661377,
          6.369999885559082,
          6.449999809265137,
          6.420000076293945,
          6.360000133514404,
          6.389999866485596,
          6.75,
          6.710000038146973,
          6.769999980926514,
          6.730000019073486,
          6.889999866485596,
          6.909999847412109,
          6.829999923706055,
          6.739999771118164,
          6.739999771118164,
          6.670000076293945,
          6.710000038146973,
          6.699999809265137,
          6.760000228881836,
          6.880000114440918,
          6.789999961853027,
          6.75,
          6.710000038146973,
          6.579999923706055,
          6.659999847412109,
          6.449999809265137,
          6.369999885559082,
          6.369999885559082,
          6.349999904632568,
          6.320000171661377,
          6.320000171661377,
          6.340000152587891,
          6.309999942779541,
          6.28000020980835,
          6.340000152587891,
          6.329999923706055,
          6.349999904632568,
          6.159999847412109,
          6.159999847412109,
          6.199999809265137,
          6.25,
          6.320000171661377,
          6.309999942779541,
          6.340000152587891
         ],
         "open": [
          7.789999961853027,
          7.920000076293945,
          7.739999771118164,
          7.739999771118164,
          7.71999979019165,
          7.659999847412109,
          7.519999980926514,
          7.5,
          7.5,
          7.650000095367432,
          7.880000114440918,
          7.849999904632568,
          8.130000114440918,
          8.170000076293945,
          8.15999984741211,
          8.210000038146973,
          8.180000305175781,
          8.09000015258789,
          8.029999732971191,
          8.010000228881836,
          8.020000457763672,
          8.199999809265137,
          8.050000190734863,
          7.920000076293945,
          7.789999961853027,
          7.71999979019165,
          7.599999904632568,
          7.46999979019165,
          7.519999980926514,
          7.559999942779541,
          7.679999828338623,
          7.269999980926514,
          7.239999771118164,
          7.099999904632568,
          7.03000020980835,
          6.929999828338623,
          6.889999866485596,
          6.78000020980835,
          6.949999809265137,
          6.909999847412109,
          6.809999942779541,
          6.789999961853027,
          6.880000114440918,
          6.849999904632568,
          6.659999847412109,
          6.409999847412109,
          6.349999904632568,
          6.340000152587891,
          6.309999942779541,
          6.25,
          6.269999980926514,
          5.800000190734863,
          5.800000190734863,
          5.880000114440918,
          5.849999904632568,
          5.860000133514404,
          5.900000095367432,
          5.940000057220459,
          6.050000190734863,
          6.110000133514404,
          6.039999961853027,
          6.139999866485596,
          6.21999979019165,
          6.25,
          6.190000057220459,
          6.099999904632568,
          6.050000190734863,
          6.079999923706055,
          6.119999885559082,
          5.949999809265137,
          6.050000190734863,
          6.369999885559082,
          6.380000114440918,
          6.329999923706055,
          6.329999923706055,
          6.559999942779541,
          6.489999771118164,
          6.510000228881836,
          6.400000095367432,
          6.409999847412109,
          6.349999904632568,
          6.420000076293945,
          6.619999885559082,
          6.53000020980835,
          6.429999828338623,
          6.409999847412109,
          6.800000190734863,
          6.840000152587891,
          6.78000020980835,
          6.739999771118164,
          6.920000076293945,
          7,
          6.960000038146973,
          6.849999904632568,
          6.880000114440918,
          6.769999980926514,
          6.75,
          6.840000152587891,
          6.840000152587891,
          7.019999980926514,
          6.880000114440918,
          6.900000095367432,
          6.820000171661377,
          6.699999809265137,
          6.769999980926514,
          6.679999828338623,
          6.480000019073486,
          6.489999771118164,
          6.400000095367432,
          6.429999828338623,
          6.650000095367432,
          6.340000152587891,
          6.489999771118164,
          6.340000152587891,
          6.340000152587891,
          6.449999809265137,
          6.440000057220459,
          6.360000133514404,
          6.210000038146973,
          6.21999979019165,
          6.25,
          6.340000152587891,
          6.380000114440918,
          6.360000133514404
         ],
         "type": "candlestick",
         "xaxis": "x",
         "yaxis": "y"
        },
        {
         "close": [
          7.64268710817781,
          7.852730438212789,
          7.647727836738284,
          7.642981455589705,
          7.633666047513017,
          7.512979646715223,
          7.354644743694806,
          7.401060510595244,
          7.421655041152917,
          7.478422141898747,
          7.796260015420515,
          7.810504985220405,
          8.048257523398435,
          8.102617407661713,
          8.061188999917691,
          8.128267815300662,
          8.046760849543178,
          7.9360892523748,
          7.957874922775859,
          7.88647947812676,
          7.8848534592092685,
          8.067534831808816,
          7.92767995889625,
          7.808095904304523,
          7.711931462872997,
          7.571608850248893,
          7.460666910247738,
          7.352298587403794,
          7.460386313031648,
          7.498704146819563,
          7.627292715230283,
          7.080497301654077,
          7.159662306095541,
          6.99878757877201,
          7.002825475255378,
          6.8865509063506,
          6.918283445091632,
          6.824747505073454,
          6.895755613698348,
          6.912495195293111,
          6.789968016163684,
          6.8411555671168145,
          6.8660733689843525,
          6.872281815444509,
          6.69182214821123,
          6.442834301735459,
          6.3963665637559615,
          6.360907022789256,
          6.393302600633092,
          6.302519612953006,
          6.346748399557939,
          5.875666458221957,
          5.914881317495528,
          5.973444333646,
          5.9640594754277885,
          5.968956293040641,
          5.996822346637536,
          6.061023409176421,
          6.164324784866196,
          6.2191978544034185,
          6.1356231155564345,
          6.188578265833016,
          6.294430069790465,
          6.33709587862986,
          6.264772645345168,
          6.227704098415103,
          6.079185669928677,
          6.167762217290381,
          6.2198832667061765,
          6.0429105559073975,
          6.129028847924154,
          6.417669812033012,
          6.443216510568007,
          6.373929390433325,
          6.419622456364415,
          6.491385427433592,
          6.5024861469503605,
          6.526527315571784,
          6.414259064310855,
          6.458908047577424,
          6.414241468721308,
          6.479895740513456,
          6.612004475577358,
          6.5468195748759115,
          6.4796594235889415,
          6.463953553748304,
          6.6248616078176,
          6.884091602261904,
          6.791283140823481,
          6.844345962124841,
          6.865632313974842,
          6.96700691434566,
          6.93761225847274,
          6.87933519978418,
          6.838965440590066,
          6.794173129011291,
          6.766504821874406,
          6.8192269179848,
          6.755657781817533,
          6.9624241372217455,
          6.899351173374292,
          6.896702862356818,
          6.82661624990503,
          6.752960296370993,
          6.747786726935793,
          6.71625414866935,
          6.493912200703399,
          6.518927535739486,
          6.436861123456069,
          6.522271629970113,
          6.40470384349716,
          6.423963323263827,
          6.5501971123793865,
          6.370383587821863,
          6.383807507794273,
          6.485573639164286,
          6.4840936286819115,
          6.448094101212149,
          6.270641065776857,
          6.318714896542637,
          6.321108828937717,
          6.411379913141772,
          6.455201437591292,
          6.412975635017659
         ],
         "high": [
          7.762070417650989,
          7.97711636877304,
          7.767371826303929,
          7.7620961778838335,
          7.752044487761381,
          7.628245771690786,
          7.466215797757428,
          7.513280215829369,
          7.533906363368331,
          7.5920464999014,
          7.918156158772348,
          7.933405271286717,
          8.17738445420909,
          8.233822524715123,
          8.191445760023669,
          8.259902751644802,
          8.17649489901251,
          8.063150819825836,
          8.085104682852148,
          8.011958383523648,
          8.009950503356237,
          8.196959867846886,
          8.054259994508271,
          7.9317769409720436,
          7.832976285719241,
          7.6889189190094385,
          7.5751347888727025,
          7.464172467728304,
          7.5743125884133775,
          7.613291838358279,
          7.7450306144553025,
          7.18692051726714,
          7.267506560907094,
          7.103689677611001,
          7.107507864049879,
          6.9892929738638685,
          7.020964352982887,
          6.925525998947336,
          6.997395394256941,
          7.014229351922282,
          6.889587519973951,
          6.941841915966847,
          6.967160679866936,
          6.973383548591997,
          6.788694023051832,
          6.53303269270063,
          6.484619880055341,
          6.4476678895355874,
          6.481427738174311,
          6.386807685113297,
          6.43293209101882,
          5.941968404064269,
          5.983049476310121,
          6.044233928800878,
          6.034450948630209,
          6.039507280572508,
          6.068485415531001,
          6.135362170483184,
          6.243044197757094,
          6.30021005392409,
          6.2130042212740975,
          6.268154634636517,
          6.378493274547182,
          6.42296406257001,
          6.3475337286513565,
          6.3088407954228884,
          6.153977011034769,
          6.246310193516692,
          6.300643842065249,
          6.116143736952836,
          6.205935637014775,
          6.507036600109416,
          6.533741453602474,
          6.461487781791902,
          6.509094700914254,
          6.58392073285691,
          6.595471715797402,
          6.62001412772598,
          6.503423313871238,
          6.549924315474357,
          6.503296285200101,
          6.571490593345942,
          6.707174348220569,
          6.6406017530818815,
          6.571502882631336,
          6.55508794233144,
          6.7203985646339035,
          6.986018470137459,
          6.891496258694772,
          6.945646395125863,
          6.9672815638953765,
          7.070106132951196,
          7.040373861267867,
          6.98115876676146,
          6.94013299629988,
          6.894111276827118,
          6.865551922901659,
          6.919450365314589,
          6.854087319457541,
          7.064969211656603,
          7.001270418640765,
          6.998669344120692,
          6.927465342715436,
          6.851659003930216,
          6.846260226323771,
          6.813750694307657,
          6.5861759348928715,
          6.6117387120077495,
          6.52678666339925,
          6.615015224559656,
          6.493249085393465,
          6.513307680646406,
          6.643575169316144,
          6.4574949457009865,
          6.471501186063705,
          6.577444515786809,
          6.575916981245605,
          6.538505442351848,
          6.353497813385914,
          6.403621318191256,
          6.406092882549871,
          6.500193713302998,
          6.545864360978598,
          6.501811054160541
         ],
         "low": [
          7.521273389458655,
          7.724206820130347,
          7.525907807052135,
          7.521930880844592,
          7.513855382800101,
          7.397585712373256,
          7.243837952613831,
          7.289701379835605,
          7.310625508427619,
          7.365614518523215,
          7.671842157840728,
          7.684800550341605,
          7.913786455988883,
          7.965056091547011,
          7.9249108731746665,
          7.989990204572677,
          7.911016479134559,
          7.803836524486541,
          7.825336471199988,
          7.7563787400722495,
          7.755402117967605,
          7.932137876749038,
          7.796179115772246,
          7.680522859096526,
          7.588016003370284,
          7.452918700873851,
          7.345847427845,
          7.240693315863609,
          7.346481800079345,
          7.384293928742408,
          7.508735463023185,
          6.974283769726753,
          7.052309177815914,
          6.891719877719879,
          6.895813263952732,
          6.778929531574249,
          6.810510508716106,
          6.718119356781244,
          6.788111291825771,
          6.80466827750206,
          6.6839336939156055,
          6.734392646700144,
          6.758953612297773,
          6.7650580406188965,
          6.587479189038277,
          6.343559607863426,
          6.298303868621588,
          6.263801127672195,
          6.295401442795992,
          6.206998992711306,
          6.250098168849945,
          5.791180524975061,
          5.829354673624039,
          5.8864634074270725,
          5.877414096146822,
          5.882251400500536,
          5.909439414739609,
          5.971982769668102,
          6.072595696896315,
          6.126044906675816,
          6.044638700783253,
          6.096204347908497,
          6.199283245950937,
          6.240821447223425,
          6.1703665889799595,
          6.134245939552784,
          5.989575147628784,
          6.07584361359477,
          6.126626342535019,
          5.954245734959841,
          6.038125149905682,
          6.319224648177624,
          6.344126999378204,
          6.276658292859793,
          6.321158662438393,
          6.391042239964008,
          6.401842340826988,
          6.425448939204216,
          6.3158881440758705,
          6.359372891485691,
          6.315878096967936,
          6.379918470978737,
          6.509371891617775,
          6.445367816835642,
          6.379572007805109,
          6.364273503422737,
          6.521912302821875,
          6.776604652404785,
          6.685113310813904,
          6.737429141998291,
          6.758451905101538,
          6.859022483229637,
          6.8295712769031525,
          6.7717446610331535,
          6.732163161039352,
          6.688050199300051,
          6.660863913595676,
          6.712763924151659,
          6.650279231369495,
          6.854436680674553,
          6.791434183716774,
          6.788832522928715,
          6.719922110438347,
          6.647502556443214,
          6.642436977475882,
          6.611468441784382,
          6.393396072089672,
          6.417972918599844,
          6.337813094258308,
          6.4213510155677795,
          6.306541308760643,
          6.325278624892235,
          6.448791611939669,
          6.273109719157219,
          6.28618673235178,
          6.385391227900982,
          6.383962485939264,
          6.348851516842842,
          6.175992753356695,
          6.222812492400408,
          6.225171726197004,
          6.313113629817963,
          6.35580724850297,
          6.31468216702342
         ],
         "open": [
          7.654432860402949,
          7.863281396349436,
          7.659244309232577,
          7.654749897493929,
          7.645897752229189,
          7.525959802603992,
          7.3670023368747195,
          7.4143413759306895,
          7.435422228900251,
          7.491937495580629,
          7.807677082910473,
          7.821620374171772,
          8.057914693663248,
          8.111607390864746,
          8.07053934546836,
          8.137547600491017,
          8.056453739779554,
          7.9462544650623945,
          7.968116168644925,
          7.897059232549309,
          7.895698556323281,
          8.077523320319214,
          7.938026530603451,
          7.818971353144917,
          7.723405571178233,
          7.583929447583955,
          7.473432862528142,
          7.364365527646925,
          7.473216337937117,
          7.511664013065982,
          7.639661515228468,
          7.0881926389559595,
          7.168672621922369,
          7.004558724040024,
          7.008758173862915,
          6.889804565694639,
          6.922173348156825,
          6.827204652711487,
          6.899383195582303,
          6.916374974605091,
          6.791509681480342,
          6.843868591897973,
          6.869294379488842,
          6.87559966012271,
          6.691196562629095,
          6.4384288784691535,
          6.391317519012965,
          6.3553858267538885,
          6.388210907784796,
          6.296238447691508,
          6.3410694885155365,
          5.863741966970444,
          5.903573861264871,
          5.963066752045847,
          5.953622451947844,
          5.958588250872321,
          5.986795451830815,
          6.05181741076791,
          6.1565044672632325,
          6.21210596259472,
          6.127363944335237,
          6.18096810599355,
          6.288217174447425,
          6.3314523444923765,
          6.258142214049052,
          6.22051601724926,
          6.069958742798363,
          6.159674838173032,
          6.212499793114404,
          6.033151206220168,
          6.120406858926543,
          6.413056869762606,
          6.439084558141758,
          6.368907341263039,
          6.415192877807797,
          6.487928114326145,
          6.499165904989937,
          6.52354981476293,
          6.409697215967377,
          6.45488204670071,
          6.409564060389165,
          6.476086426714609,
          6.610155776275086,
          6.544038982583807,
          6.475870136965874,
          6.459905205854426,
          6.623207019099283,
          6.887752161504551,
          6.792882686926575,
          6.847191962559457,
          6.869010924845277,
          6.972359967395519,
          6.942207039356994,
          6.882751312368349,
          6.841827577558931,
          6.7958851455993,
          6.767519837069322,
          6.821375632240958,
          6.756348271931202,
          6.96768331804013,
          6.903047204984873,
          6.90036648024892,
          6.829096894460058,
          6.753675531833096,
          6.748324532843078,
          6.716056615144282,
          6.490225224182012,
          6.515585373352934,
          6.43234693285271,
          6.518964519058201,
          6.3997602167457615,
          6.419217604967216,
          6.547288495345207,
          6.364989232503106,
          6.378589184336988,
          6.481752114372711,
          6.480281766797432,
          6.443782108460923,
          6.263925909957685,
          6.312613765704057,
          6.315029118652745,
          6.406509349307001,
          6.450928007070466,
          6.408122246152075
         ],
         "type": "candlestick",
         "xaxis": "x2",
         "yaxis": "y2"
        }
       ],
       "layout": {
        "autosize": true,
        "template": {
         "data": {
          "bar": [
           {
            "error_x": {
             "color": "#2a3f5f"
            },
            "error_y": {
             "color": "#2a3f5f"
            },
            "marker": {
             "line": {
              "color": "#E5ECF6",
              "width": 0.5
             },
             "pattern": {
              "fillmode": "overlay",
              "size": 10,
              "solidity": 0.2
             }
            },
            "type": "bar"
           }
          ],
          "barpolar": [
           {
            "marker": {
             "line": {
              "color": "#E5ECF6",
              "width": 0.5
             },
             "pattern": {
              "fillmode": "overlay",
              "size": 10,
              "solidity": 0.2
             }
            },
            "type": "barpolar"
           }
          ],
          "carpet": [
           {
            "aaxis": {
             "endlinecolor": "#2a3f5f",
             "gridcolor": "white",
             "linecolor": "white",
             "minorgridcolor": "white",
             "startlinecolor": "#2a3f5f"
            },
            "baxis": {
             "endlinecolor": "#2a3f5f",
             "gridcolor": "white",
             "linecolor": "white",
             "minorgridcolor": "white",
             "startlinecolor": "#2a3f5f"
            },
            "type": "carpet"
           }
          ],
          "choropleth": [
           {
            "colorbar": {
             "outlinewidth": 0,
             "ticks": ""
            },
            "type": "choropleth"
           }
          ],
          "contour": [
           {
            "colorbar": {
             "outlinewidth": 0,
             "ticks": ""
            },
            "colorscale": [
             [
              0,
              "#0d0887"
             ],
             [
              0.1111111111111111,
              "#46039f"
             ],
             [
              0.2222222222222222,
              "#7201a8"
             ],
             [
              0.3333333333333333,
              "#9c179e"
             ],
             [
              0.4444444444444444,
              "#bd3786"
             ],
             [
              0.5555555555555556,
              "#d8576b"
             ],
             [
              0.6666666666666666,
              "#ed7953"
             ],
             [
              0.7777777777777778,
              "#fb9f3a"
             ],
             [
              0.8888888888888888,
              "#fdca26"
             ],
             [
              1,
              "#f0f921"
             ]
            ],
            "type": "contour"
           }
          ],
          "contourcarpet": [
           {
            "colorbar": {
             "outlinewidth": 0,
             "ticks": ""
            },
            "type": "contourcarpet"
           }
          ],
          "heatmap": [
           {
            "colorbar": {
             "outlinewidth": 0,
             "ticks": ""
            },
            "colorscale": [
             [
              0,
              "#0d0887"
             ],
             [
              0.1111111111111111,
              "#46039f"
             ],
             [
              0.2222222222222222,
              "#7201a8"
             ],
             [
              0.3333333333333333,
              "#9c179e"
             ],
             [
              0.4444444444444444,
              "#bd3786"
             ],
             [
              0.5555555555555556,
              "#d8576b"
             ],
             [
              0.6666666666666666,
              "#ed7953"
             ],
             [
              0.7777777777777778,
              "#fb9f3a"
             ],
             [
              0.8888888888888888,
              "#fdca26"
             ],
             [
              1,
              "#f0f921"
             ]
            ],
            "type": "heatmap"
           }
          ],
          "heatmapgl": [
           {
            "colorbar": {
             "outlinewidth": 0,
             "ticks": ""
            },
            "colorscale": [
             [
              0,
              "#0d0887"
             ],
             [
              0.1111111111111111,
              "#46039f"
             ],
             [
              0.2222222222222222,
              "#7201a8"
             ],
             [
              0.3333333333333333,
              "#9c179e"
             ],
             [
              0.4444444444444444,
              "#bd3786"
             ],
             [
              0.5555555555555556,
              "#d8576b"
             ],
             [
              0.6666666666666666,
              "#ed7953"
             ],
             [
              0.7777777777777778,
              "#fb9f3a"
             ],
             [
              0.8888888888888888,
              "#fdca26"
             ],
             [
              1,
              "#f0f921"
             ]
            ],
            "type": "heatmapgl"
           }
          ],
          "histogram": [
           {
            "marker": {
             "pattern": {
              "fillmode": "overlay",
              "size": 10,
              "solidity": 0.2
             }
            },
            "type": "histogram"
           }
          ],
          "histogram2d": [
           {
            "colorbar": {
             "outlinewidth": 0,
             "ticks": ""
            },
            "colorscale": [
             [
              0,
              "#0d0887"
             ],
             [
              0.1111111111111111,
              "#46039f"
             ],
             [
              0.2222222222222222,
              "#7201a8"
             ],
             [
              0.3333333333333333,
              "#9c179e"
             ],
             [
              0.4444444444444444,
              "#bd3786"
             ],
             [
              0.5555555555555556,
              "#d8576b"
             ],
             [
              0.6666666666666666,
              "#ed7953"
             ],
             [
              0.7777777777777778,
              "#fb9f3a"
             ],
             [
              0.8888888888888888,
              "#fdca26"
             ],
             [
              1,
              "#f0f921"
             ]
            ],
            "type": "histogram2d"
           }
          ],
          "histogram2dcontour": [
           {
            "colorbar": {
             "outlinewidth": 0,
             "ticks": ""
            },
            "colorscale": [
             [
              0,
              "#0d0887"
             ],
             [
              0.1111111111111111,
              "#46039f"
             ],
             [
              0.2222222222222222,
              "#7201a8"
             ],
             [
              0.3333333333333333,
              "#9c179e"
             ],
             [
              0.4444444444444444,
              "#bd3786"
             ],
             [
              0.5555555555555556,
              "#d8576b"
             ],
             [
              0.6666666666666666,
              "#ed7953"
             ],
             [
              0.7777777777777778,
              "#fb9f3a"
             ],
             [
              0.8888888888888888,
              "#fdca26"
             ],
             [
              1,
              "#f0f921"
             ]
            ],
            "type": "histogram2dcontour"
           }
          ],
          "mesh3d": [
           {
            "colorbar": {
             "outlinewidth": 0,
             "ticks": ""
            },
            "type": "mesh3d"
           }
          ],
          "parcoords": [
           {
            "line": {
             "colorbar": {
              "outlinewidth": 0,
              "ticks": ""
             }
            },
            "type": "parcoords"
           }
          ],
          "pie": [
           {
            "automargin": true,
            "type": "pie"
           }
          ],
          "scatter": [
           {
            "fillpattern": {
             "fillmode": "overlay",
             "size": 10,
             "solidity": 0.2
            },
            "type": "scatter"
           }
          ],
          "scatter3d": [
           {
            "line": {
             "colorbar": {
              "outlinewidth": 0,
              "ticks": ""
             }
            },
            "marker": {
             "colorbar": {
              "outlinewidth": 0,
              "ticks": ""
             }
            },
            "type": "scatter3d"
           }
          ],
          "scattercarpet": [
           {
            "marker": {
             "colorbar": {
              "outlinewidth": 0,
              "ticks": ""
             }
            },
            "type": "scattercarpet"
           }
          ],
          "scattergeo": [
           {
            "marker": {
             "colorbar": {
              "outlinewidth": 0,
              "ticks": ""
             }
            },
            "type": "scattergeo"
           }
          ],
          "scattergl": [
           {
            "marker": {
             "colorbar": {
              "outlinewidth": 0,
              "ticks": ""
             }
            },
            "type": "scattergl"
           }
          ],
          "scattermapbox": [
           {
            "marker": {
             "colorbar": {
              "outlinewidth": 0,
              "ticks": ""
             }
            },
            "type": "scattermapbox"
           }
          ],
          "scatterpolar": [
           {
            "marker": {
             "colorbar": {
              "outlinewidth": 0,
              "ticks": ""
             }
            },
            "type": "scatterpolar"
           }
          ],
          "scatterpolargl": [
           {
            "marker": {
             "colorbar": {
              "outlinewidth": 0,
              "ticks": ""
             }
            },
            "type": "scatterpolargl"
           }
          ],
          "scatterternary": [
           {
            "marker": {
             "colorbar": {
              "outlinewidth": 0,
              "ticks": ""
             }
            },
            "type": "scatterternary"
           }
          ],
          "surface": [
           {
            "colorbar": {
             "outlinewidth": 0,
             "ticks": ""
            },
            "colorscale": [
             [
              0,
              "#0d0887"
             ],
             [
              0.1111111111111111,
              "#46039f"
             ],
             [
              0.2222222222222222,
              "#7201a8"
             ],
             [
              0.3333333333333333,
              "#9c179e"
             ],
             [
              0.4444444444444444,
              "#bd3786"
             ],
             [
              0.5555555555555556,
              "#d8576b"
             ],
             [
              0.6666666666666666,
              "#ed7953"
             ],
             [
              0.7777777777777778,
              "#fb9f3a"
             ],
             [
              0.8888888888888888,
              "#fdca26"
             ],
             [
              1,
              "#f0f921"
             ]
            ],
            "type": "surface"
           }
          ],
          "table": [
           {
            "cells": {
             "fill": {
              "color": "#EBF0F8"
             },
             "line": {
              "color": "white"
             }
            },
            "header": {
             "fill": {
              "color": "#C8D4E3"
             },
             "line": {
              "color": "white"
             }
            },
            "type": "table"
           }
          ]
         },
         "layout": {
          "annotationdefaults": {
           "arrowcolor": "#2a3f5f",
           "arrowhead": 0,
           "arrowwidth": 1
          },
          "autotypenumbers": "strict",
          "coloraxis": {
           "colorbar": {
            "outlinewidth": 0,
            "ticks": ""
           }
          },
          "colorscale": {
           "diverging": [
            [
             0,
             "#8e0152"
            ],
            [
             0.1,
             "#c51b7d"
            ],
            [
             0.2,
             "#de77ae"
            ],
            [
             0.3,
             "#f1b6da"
            ],
            [
             0.4,
             "#fde0ef"
            ],
            [
             0.5,
             "#f7f7f7"
            ],
            [
             0.6,
             "#e6f5d0"
            ],
            [
             0.7,
             "#b8e186"
            ],
            [
             0.8,
             "#7fbc41"
            ],
            [
             0.9,
             "#4d9221"
            ],
            [
             1,
             "#276419"
            ]
           ],
           "sequential": [
            [
             0,
             "#0d0887"
            ],
            [
             0.1111111111111111,
             "#46039f"
            ],
            [
             0.2222222222222222,
             "#7201a8"
            ],
            [
             0.3333333333333333,
             "#9c179e"
            ],
            [
             0.4444444444444444,
             "#bd3786"
            ],
            [
             0.5555555555555556,
             "#d8576b"
            ],
            [
             0.6666666666666666,
             "#ed7953"
            ],
            [
             0.7777777777777778,
             "#fb9f3a"
            ],
            [
             0.8888888888888888,
             "#fdca26"
            ],
            [
             1,
             "#f0f921"
            ]
           ],
           "sequentialminus": [
            [
             0,
             "#0d0887"
            ],
            [
             0.1111111111111111,
             "#46039f"
            ],
            [
             0.2222222222222222,
             "#7201a8"
            ],
            [
             0.3333333333333333,
             "#9c179e"
            ],
            [
             0.4444444444444444,
             "#bd3786"
            ],
            [
             0.5555555555555556,
             "#d8576b"
            ],
            [
             0.6666666666666666,
             "#ed7953"
            ],
            [
             0.7777777777777778,
             "#fb9f3a"
            ],
            [
             0.8888888888888888,
             "#fdca26"
            ],
            [
             1,
             "#f0f921"
            ]
           ]
          },
          "colorway": [
           "#636efa",
           "#EF553B",
           "#00cc96",
           "#ab63fa",
           "#FFA15A",
           "#19d3f3",
           "#FF6692",
           "#B6E880",
           "#FF97FF",
           "#FECB52"
          ],
          "font": {
           "color": "#2a3f5f"
          },
          "geo": {
           "bgcolor": "white",
           "lakecolor": "white",
           "landcolor": "#E5ECF6",
           "showlakes": true,
           "showland": true,
           "subunitcolor": "white"
          },
          "hoverlabel": {
           "align": "left"
          },
          "hovermode": "closest",
          "mapbox": {
           "style": "light"
          },
          "paper_bgcolor": "white",
          "plot_bgcolor": "#E5ECF6",
          "polar": {
           "angularaxis": {
            "gridcolor": "white",
            "linecolor": "white",
            "ticks": ""
           },
           "bgcolor": "#E5ECF6",
           "radialaxis": {
            "gridcolor": "white",
            "linecolor": "white",
            "ticks": ""
           }
          },
          "scene": {
           "xaxis": {
            "backgroundcolor": "#E5ECF6",
            "gridcolor": "white",
            "gridwidth": 2,
            "linecolor": "white",
            "showbackground": true,
            "ticks": "",
            "zerolinecolor": "white"
           },
           "yaxis": {
            "backgroundcolor": "#E5ECF6",
            "gridcolor": "white",
            "gridwidth": 2,
            "linecolor": "white",
            "showbackground": true,
            "ticks": "",
            "zerolinecolor": "white"
           },
           "zaxis": {
            "backgroundcolor": "#E5ECF6",
            "gridcolor": "white",
            "gridwidth": 2,
            "linecolor": "white",
            "showbackground": true,
            "ticks": "",
            "zerolinecolor": "white"
           }
          },
          "shapedefaults": {
           "line": {
            "color": "#2a3f5f"
           }
          },
          "ternary": {
           "aaxis": {
            "gridcolor": "white",
            "linecolor": "white",
            "ticks": ""
           },
           "baxis": {
            "gridcolor": "white",
            "linecolor": "white",
            "ticks": ""
           },
           "bgcolor": "#E5ECF6",
           "caxis": {
            "gridcolor": "white",
            "linecolor": "white",
            "ticks": ""
           }
          },
          "title": {
           "x": 0.05
          },
          "xaxis": {
           "automargin": true,
           "gridcolor": "white",
           "linecolor": "white",
           "ticks": "",
           "title": {
            "standoff": 15
           },
           "zerolinecolor": "white",
           "zerolinewidth": 2
          },
          "yaxis": {
           "automargin": true,
           "gridcolor": "white",
           "linecolor": "white",
           "ticks": "",
           "title": {
            "standoff": 15
           },
           "zerolinecolor": "white",
           "zerolinewidth": 2
          }
         }
        },
        "xaxis": {
         "anchor": "y",
         "autorange": true,
         "domain": [
          0,
          1
         ],
         "range": [
          -0.5,
          123.5
         ],
         "rangeslider": {
          "visible": false,
          "yaxis": {}
         },
         "showspikes": false
        },
        "xaxis2": {
         "anchor": "y2",
         "autorange": true,
         "domain": [
          0,
          1
         ],
         "range": [
          -0.5,
          123.5
         ],
         "rangeslider": {
          "autorange": true,
          "range": [
           -0.5,
           123.5
          ],
          "yaxis2": {
           "_template": null,
           "rangemode": "match"
          }
         },
         "showspikes": false
        },
        "yaxis": {
         "anchor": "x",
         "autorange": true,
         "domain": [
          0.575,
          1
         ],
         "range": [
          5.538333389494154,
          8.57166674402025
         ],
         "showspikes": false
        },
        "yaxis2": {
         "anchor": "x2",
         "autorange": true,
         "domain": [
          0,
          0.425
         ],
         "range": [
          5.654029290160076,
          8.397053986459788
         ]
        }
       }
      },
      "image/png": "[encoded data removed]",
      "text/html": [
       "<div>                            <div id=\"765aa040-c9ad-4ba5-b260-7e2e701b5ce2\" class=\"plotly-graph-div\" style=\"height:525px; width:100%;\"></div>            <script type=\"text/javascript\">                require([\"plotly\"], function(Plotly) {                    window.PLOTLYENV=window.PLOTLYENV || {};                                    if (document.getElementById(\"765aa040-c9ad-4ba5-b260-7e2e701b5ce2\")) {                    Plotly.newPlot(                        \"765aa040-c9ad-4ba5-b260-7e2e701b5ce2\",                        [{\"close\":[7.909999847412109,7.739999771118164,7.730000019073486,7.71999979019165,7.639999866485596,7.480000019073486,7.519999980926514,7.5,7.559999942779541,7.9000000953674325,7.869999885559083,8.149999618530273,8.180000305175781,8.140000343322754,8.210000038146973,8.180000305175781,8.039999961853027,8.050000190734863,8.0,7.9600000381469735,8.15999984741211,8.029999732971191,7.9000000953674325,7.809999942779541,7.659999847412109,7.590000152587891,7.460000038146973,7.539999961853027,7.599999904632568,7.75,7.21999979019165,7.239999771118164,7.090000152587891,7.03000020980835,6.900000095367432,6.920000076293945,6.820000171661377,6.920000076293945,6.909999847412109,6.78000020980835,6.800000190734863,6.869999885559082,6.869999885559082,6.670000076293945,6.429999828338623,6.360000133514404,6.320000171661377,6.329999923706055,6.269999980926514,6.269999980926514,5.789999961853027,5.789999961853027,5.889999866485596,5.840000152587891,5.860000133514404,5.900000095367432,5.929999828338623,6.070000171661377,6.110000133514404,6.03000020980835,6.110000133514404,6.21999979019165,6.25,6.190000057220459,6.139999866485596,6.0,6.079999923706055,6.150000095367432,5.949999809265137,6.03000020980835,6.369999885559082,6.389999866485596,6.329999923706055,6.360000133514404,6.449999809265137,6.46999979019165,6.5,6.369999885559082,6.389999866485596,6.360000133514404,6.440000057220459,6.599999904632568,6.519999980926514,6.429999828338623,6.420000076293945,6.599999904632568,6.840000152587891,6.769999980926514,6.809999942779541,6.869999885559082,6.989999771118164,6.949999809265137,6.880000114440918,6.860000133514404,6.769999980926514,6.769999980926514,6.809999942779541,6.739999771118164,7.019999980926514,6.880000114440918,6.909999847412109,6.829999923706055,6.739999771118164,6.769999980926514,6.690000057220459,6.480000019073486,6.510000228881836,6.380000114440918,6.480000019073486,6.360000133514404,6.340000152587891,6.510000228881836,6.309999942779541,6.320000171661377,6.429999828338623,6.460000038146973,6.409999847412109,6.21999979019165,6.25,6.260000228881836,6.360000133514404,6.400000095367432,6.360000133514404,6.429999828338623],\"high\":[8.09000015258789,7.949999809265137,7.829999923706055,7.78000020980835,7.71999979019165,7.679999828338623,7.559999942779541,7.599999904632568,7.75,7.929999828338622,7.980000019073487,8.180000305175781,8.420000076293945,8.210000038146973,8.319999694824219,8.270000457763672,8.220000267028809,8.109999656677246,8.109999656677246,8.100000381469727,8.25,8.199999809265137,8.079999923706055,7.929999828338622,7.860000133514404,7.730000019073486,7.71999979019165,7.599999904632568,7.650000095367432,7.760000228881836,7.679999828338623,7.320000171661377,7.269999980926514,7.199999809265137,7.039999961853027,6.96999979019165,6.900000095367432,6.949999809265137,7.019999980926514,6.949999809265137,6.929999828338623,6.889999866485596,6.940000057220459,6.889999866485596,6.659999847412109,6.420000076293945,6.369999885559082,6.400000095367432,6.320000171661377,6.360000133514404,6.269999980926514,5.849999904632568,5.900000095367432,5.949999809265137,5.900000095367432,5.909999847412109,6.03000020980835,6.150000095367432,6.210000038146973,6.159999847412109,6.119999885559082,6.239999771118164,6.389999866485596,6.28000020980835,6.25,6.110000133514404,6.119999885559082,6.170000076293945,6.119999885559082,6.070000171661377,6.420000076293945,6.440000057220459,6.400000095367432,6.460000038146973,6.539999961853027,6.559999942779541,6.53000020980835,6.519999980926514,6.5,6.420000076293945,6.480000019073486,6.639999866485596,6.630000114440918,6.570000171661377,6.519999980926514,6.679999828338623,6.940000057220459,6.869999885559082,6.869999885559082,6.880000114440918,7.079999923706055,7.079999923706055,7.010000228881836,6.869999885559082,6.960000038146973,6.789999961853027,6.829999923706055,6.840000152587891,7.039999961853027,7.119999885559082,7.0,6.920000076293945,6.820000171661377,6.78000020980835,6.800000190734863,6.679999828338623,6.539999961853027,6.579999923706055,6.590000152587891,6.46999979019165,6.699999809265137,6.539999961853027,6.519999980926514,6.380000114440918,6.480000019073486,6.5,6.449999809265137,6.409999847412109,6.340000152587891,6.28000020980835,6.380000114440918,6.480000019073486,6.440000057220459,6.460000038146973],\"low\":[7.78000020980835,7.710000038146972,7.670000076293946,7.679999828338623,7.5399999618530265,7.400000095367432,7.380000114440918,7.480000019073487,7.449999809265137,7.5999999046325675,7.8400001525878915,7.8400001525878915,7.989999771118163,8.09000015258789,8.09000015258789,8.0,7.989999771118163,8.010000228881836,7.900000095367431,7.929999828338624,7.960000038146973,7.980000019073486,7.860000133514403,7.769999980926514,7.6500000953674325,7.480000019073487,7.360000133514404,7.460000038146973,7.46999979019165,7.500000000000001,7.190000057220459,7.139999866485596,6.980000019073486,7.010000228881836,6.860000133514404,6.880000114440918,6.789999961853027,6.71999979019165,6.869999885559082,6.739999771118164,6.78000020980835,6.739999771118164,6.789999961853027,6.670000076293945,6.400000095367432,6.309999942779541,6.260000228881836,6.300000190734863,6.159999847412109,6.21999979019165,5.78000020980835,5.690000057220459,5.710000038146973,5.829999923706055,5.789999961853027,5.78000020980835,5.889999866485596,5.889999866485596,6.050000190734863,6.019999980926514,6.0,6.119999885559082,6.190000057220459,6.159999847412109,6.119999885559082,5.949999809265137,5.989999771118164,6.03000020980835,5.929999828338623,5.940000057220459,6.050000190734863,6.309999942779541,6.260000228881836,6.289999961853027,6.309999942779541,6.380000114440918,6.400000095367432,6.340000152587891,6.369999885559082,6.340000152587891,6.320000171661377,6.369999885559082,6.449999809265137,6.420000076293945,6.360000133514404,6.389999866485596,6.75,6.710000038146973,6.769999980926514,6.730000019073486,6.889999866485596,6.909999847412109,6.829999923706055,6.739999771118164,6.739999771118164,6.670000076293945,6.710000038146973,6.699999809265137,6.760000228881836,6.880000114440918,6.789999961853027,6.75,6.710000038146973,6.579999923706055,6.659999847412109,6.449999809265137,6.369999885559082,6.369999885559082,6.349999904632568,6.320000171661377,6.320000171661377,6.340000152587891,6.309999942779541,6.28000020980835,6.340000152587891,6.329999923706055,6.349999904632568,6.159999847412109,6.159999847412109,6.199999809265137,6.25,6.320000171661377,6.309999942779541,6.340000152587891],\"open\":[7.789999961853027,7.920000076293945,7.739999771118164,7.739999771118164,7.71999979019165,7.659999847412109,7.519999980926514,7.5,7.5,7.650000095367432,7.880000114440918,7.849999904632568,8.130000114440918,8.170000076293945,8.15999984741211,8.210000038146973,8.180000305175781,8.09000015258789,8.029999732971191,8.010000228881836,8.020000457763672,8.199999809265137,8.050000190734863,7.920000076293945,7.789999961853027,7.71999979019165,7.599999904632568,7.46999979019165,7.519999980926514,7.559999942779541,7.679999828338623,7.269999980926514,7.239999771118164,7.099999904632568,7.03000020980835,6.929999828338623,6.889999866485596,6.78000020980835,6.949999809265137,6.909999847412109,6.809999942779541,6.789999961853027,6.880000114440918,6.849999904632568,6.659999847412109,6.409999847412109,6.349999904632568,6.340000152587891,6.309999942779541,6.25,6.269999980926514,5.800000190734863,5.800000190734863,5.880000114440918,5.849999904632568,5.860000133514404,5.900000095367432,5.940000057220459,6.050000190734863,6.110000133514404,6.039999961853027,6.139999866485596,6.21999979019165,6.25,6.190000057220459,6.099999904632568,6.050000190734863,6.079999923706055,6.119999885559082,5.949999809265137,6.050000190734863,6.369999885559082,6.380000114440918,6.329999923706055,6.329999923706055,6.559999942779541,6.489999771118164,6.510000228881836,6.400000095367432,6.409999847412109,6.349999904632568,6.420000076293945,6.619999885559082,6.53000020980835,6.429999828338623,6.409999847412109,6.800000190734863,6.840000152587891,6.78000020980835,6.739999771118164,6.920000076293945,7.0,6.960000038146973,6.849999904632568,6.880000114440918,6.769999980926514,6.75,6.840000152587891,6.840000152587891,7.019999980926514,6.880000114440918,6.900000095367432,6.820000171661377,6.699999809265137,6.769999980926514,6.679999828338623,6.480000019073486,6.489999771118164,6.400000095367432,6.429999828338623,6.650000095367432,6.340000152587891,6.489999771118164,6.340000152587891,6.340000152587891,6.449999809265137,6.440000057220459,6.360000133514404,6.210000038146973,6.21999979019165,6.25,6.340000152587891,6.380000114440918,6.360000133514404],\"type\":\"candlestick\",\"xaxis\":\"x\",\"yaxis\":\"y\"},{\"close\":[7.64268710817781,7.852730438212789,7.647727836738284,7.642981455589705,7.633666047513017,7.512979646715223,7.354644743694806,7.401060510595244,7.421655041152917,7.478422141898747,7.796260015420515,7.810504985220405,8.048257523398435,8.102617407661713,8.061188999917691,8.128267815300662,8.046760849543178,7.9360892523748,7.957874922775859,7.88647947812676,7.8848534592092685,8.067534831808816,7.92767995889625,7.808095904304523,7.711931462872997,7.571608850248893,7.460666910247738,7.352298587403794,7.460386313031648,7.498704146819563,7.627292715230283,7.080497301654077,7.159662306095541,6.99878757877201,7.002825475255378,6.8865509063506,6.918283445091632,6.824747505073454,6.895755613698348,6.912495195293111,6.789968016163684,6.8411555671168145,6.8660733689843525,6.872281815444509,6.69182214821123,6.442834301735459,6.3963665637559615,6.360907022789256,6.393302600633092,6.302519612953006,6.346748399557939,5.875666458221957,5.914881317495528,5.973444333646,5.9640594754277885,5.968956293040641,5.996822346637536,6.061023409176421,6.164324784866196,6.2191978544034185,6.1356231155564345,6.188578265833016,6.294430069790465,6.33709587862986,6.264772645345168,6.227704098415103,6.079185669928677,6.167762217290381,6.2198832667061765,6.0429105559073975,6.129028847924154,6.417669812033012,6.443216510568007,6.373929390433325,6.419622456364415,6.491385427433592,6.5024861469503605,6.526527315571784,6.414259064310855,6.458908047577424,6.414241468721308,6.479895740513456,6.612004475577358,6.5468195748759115,6.4796594235889415,6.463953553748304,6.6248616078176,6.884091602261904,6.791283140823481,6.844345962124841,6.865632313974842,6.96700691434566,6.93761225847274,6.87933519978418,6.838965440590066,6.794173129011291,6.766504821874406,6.8192269179848,6.755657781817533,6.9624241372217455,6.899351173374292,6.896702862356818,6.82661624990503,6.752960296370993,6.747786726935793,6.71625414866935,6.493912200703399,6.518927535739486,6.436861123456069,6.522271629970113,6.40470384349716,6.423963323263827,6.5501971123793865,6.370383587821863,6.383807507794273,6.485573639164286,6.4840936286819115,6.448094101212149,6.270641065776857,6.318714896542637,6.321108828937717,6.411379913141772,6.455201437591292,6.412975635017659],\"high\":[7.762070417650989,7.97711636877304,7.767371826303929,7.7620961778838335,7.752044487761381,7.628245771690786,7.466215797757428,7.513280215829369,7.533906363368331,7.5920464999014,7.918156158772348,7.933405271286717,8.17738445420909,8.233822524715123,8.191445760023669,8.259902751644802,8.17649489901251,8.063150819825836,8.085104682852148,8.011958383523648,8.009950503356237,8.196959867846886,8.054259994508271,7.9317769409720436,7.832976285719241,7.6889189190094385,7.5751347888727025,7.464172467728304,7.5743125884133775,7.613291838358279,7.7450306144553025,7.18692051726714,7.267506560907094,7.103689677611001,7.107507864049879,6.9892929738638685,7.020964352982887,6.925525998947336,6.997395394256941,7.014229351922282,6.889587519973951,6.941841915966847,6.967160679866936,6.973383548591997,6.788694023051832,6.53303269270063,6.484619880055341,6.4476678895355874,6.481427738174311,6.386807685113297,6.43293209101882,5.941968404064269,5.983049476310121,6.044233928800878,6.034450948630209,6.039507280572508,6.068485415531001,6.135362170483184,6.243044197757094,6.30021005392409,6.2130042212740975,6.268154634636517,6.378493274547182,6.42296406257001,6.3475337286513565,6.3088407954228884,6.153977011034769,6.246310193516692,6.300643842065249,6.116143736952836,6.205935637014775,6.507036600109416,6.533741453602474,6.461487781791902,6.509094700914254,6.58392073285691,6.595471715797402,6.62001412772598,6.503423313871238,6.549924315474357,6.503296285200101,6.571490593345942,6.707174348220569,6.6406017530818815,6.571502882631336,6.55508794233144,6.7203985646339035,6.986018470137459,6.891496258694772,6.945646395125863,6.9672815638953765,7.070106132951196,7.040373861267867,6.98115876676146,6.94013299629988,6.894111276827118,6.865551922901659,6.919450365314589,6.854087319457541,7.064969211656603,7.001270418640765,6.998669344120692,6.927465342715436,6.851659003930216,6.846260226323771,6.813750694307657,6.5861759348928715,6.6117387120077495,6.52678666339925,6.615015224559656,6.493249085393465,6.513307680646406,6.643575169316144,6.4574949457009865,6.471501186063705,6.577444515786809,6.575916981245605,6.538505442351848,6.353497813385914,6.403621318191256,6.406092882549871,6.500193713302998,6.545864360978598,6.501811054160541],\"low\":[7.521273389458655,7.724206820130347,7.525907807052135,7.521930880844592,7.513855382800101,7.397585712373256,7.243837952613831,7.289701379835605,7.310625508427619,7.365614518523215,7.671842157840728,7.684800550341605,7.913786455988883,7.965056091547011,7.9249108731746665,7.989990204572677,7.911016479134559,7.803836524486541,7.825336471199988,7.7563787400722495,7.755402117967605,7.932137876749038,7.796179115772246,7.680522859096526,7.588016003370284,7.452918700873851,7.345847427845,7.240693315863609,7.346481800079345,7.384293928742408,7.508735463023185,6.974283769726753,7.052309177815914,6.891719877719879,6.895813263952732,6.778929531574249,6.810510508716106,6.718119356781244,6.788111291825771,6.80466827750206,6.6839336939156055,6.734392646700144,6.758953612297773,6.7650580406188965,6.587479189038277,6.343559607863426,6.298303868621588,6.263801127672195,6.295401442795992,6.206998992711306,6.250098168849945,5.791180524975061,5.829354673624039,5.8864634074270725,5.877414096146822,5.882251400500536,5.909439414739609,5.971982769668102,6.072595696896315,6.126044906675816,6.044638700783253,6.096204347908497,6.199283245950937,6.240821447223425,6.1703665889799595,6.134245939552784,5.989575147628784,6.07584361359477,6.126626342535019,5.954245734959841,6.038125149905682,6.319224648177624,6.344126999378204,6.276658292859793,6.321158662438393,6.391042239964008,6.401842340826988,6.425448939204216,6.3158881440758705,6.359372891485691,6.315878096967936,6.379918470978737,6.509371891617775,6.445367816835642,6.379572007805109,6.364273503422737,6.521912302821875,6.776604652404785,6.685113310813904,6.737429141998291,6.758451905101538,6.859022483229637,6.8295712769031525,6.7717446610331535,6.732163161039352,6.688050199300051,6.660863913595676,6.712763924151659,6.650279231369495,6.854436680674553,6.791434183716774,6.788832522928715,6.719922110438347,6.647502556443214,6.642436977475882,6.611468441784382,6.393396072089672,6.417972918599844,6.337813094258308,6.4213510155677795,6.306541308760643,6.325278624892235,6.448791611939669,6.273109719157219,6.28618673235178,6.385391227900982,6.383962485939264,6.348851516842842,6.175992753356695,6.222812492400408,6.225171726197004,6.313113629817963,6.35580724850297,6.31468216702342],\"open\":[7.654432860402949,7.863281396349436,7.659244309232577,7.654749897493929,7.645897752229189,7.525959802603992,7.3670023368747195,7.4143413759306895,7.435422228900251,7.491937495580629,7.807677082910473,7.821620374171772,8.057914693663248,8.111607390864746,8.07053934546836,8.137547600491017,8.056453739779554,7.9462544650623945,7.968116168644925,7.897059232549309,7.895698556323281,8.077523320319214,7.938026530603451,7.818971353144917,7.723405571178233,7.583929447583955,7.473432862528142,7.364365527646925,7.473216337937117,7.511664013065982,7.639661515228468,7.0881926389559595,7.168672621922369,7.004558724040024,7.008758173862915,6.889804565694639,6.922173348156825,6.827204652711487,6.899383195582303,6.916374974605091,6.791509681480342,6.843868591897973,6.869294379488842,6.87559966012271,6.691196562629095,6.4384288784691535,6.391317519012965,6.3553858267538885,6.388210907784796,6.296238447691508,6.3410694885155365,5.863741966970444,5.903573861264871,5.963066752045847,5.953622451947844,5.958588250872321,5.986795451830815,6.05181741076791,6.1565044672632325,6.21210596259472,6.127363944335237,6.18096810599355,6.288217174447425,6.3314523444923765,6.258142214049052,6.22051601724926,6.069958742798363,6.159674838173032,6.212499793114404,6.033151206220168,6.120406858926543,6.413056869762606,6.439084558141758,6.368907341263039,6.415192877807797,6.487928114326145,6.499165904989937,6.52354981476293,6.409697215967377,6.45488204670071,6.409564060389165,6.476086426714609,6.610155776275086,6.544038982583807,6.475870136965874,6.459905205854426,6.623207019099283,6.887752161504551,6.792882686926575,6.847191962559457,6.869010924845277,6.972359967395519,6.942207039356994,6.882751312368349,6.841827577558931,6.7958851455993,6.767519837069322,6.821375632240958,6.756348271931202,6.96768331804013,6.903047204984873,6.90036648024892,6.829096894460058,6.753675531833096,6.748324532843078,6.716056615144282,6.490225224182012,6.515585373352934,6.43234693285271,6.518964519058201,6.3997602167457615,6.419217604967216,6.547288495345207,6.364989232503106,6.378589184336988,6.481752114372711,6.480281766797432,6.443782108460923,6.263925909957685,6.312613765704057,6.315029118652745,6.406509349307001,6.450928007070466,6.408122246152075],\"type\":\"candlestick\",\"xaxis\":\"x2\",\"yaxis\":\"y2\"}],                        {\"template\":{\"data\":{\"histogram2dcontour\":[{\"type\":\"histogram2dcontour\",\"colorbar\":{\"outlinewidth\":0,\"ticks\":\"\"},\"colorscale\":[[0.0,\"#0d0887\"],[0.1111111111111111,\"#46039f\"],[0.2222222222222222,\"#7201a8\"],[0.3333333333333333,\"#9c179e\"],[0.4444444444444444,\"#bd3786\"],[0.5555555555555556,\"#d8576b\"],[0.6666666666666666,\"#ed7953\"],[0.7777777777777778,\"#fb9f3a\"],[0.8888888888888888,\"#fdca26\"],[1.0,\"#f0f921\"]]}],\"choropleth\":[{\"type\":\"choropleth\",\"colorbar\":{\"outlinewidth\":0,\"ticks\":\"\"}}],\"histogram2d\":[{\"type\":\"histogram2d\",\"colorbar\":{\"outlinewidth\":0,\"ticks\":\"\"},\"colorscale\":[[0.0,\"#0d0887\"],[0.1111111111111111,\"#46039f\"],[0.2222222222222222,\"#7201a8\"],[0.3333333333333333,\"#9c179e\"],[0.4444444444444444,\"#bd3786\"],[0.5555555555555556,\"#d8576b\"],[0.6666666666666666,\"#ed7953\"],[0.7777777777777778,\"#fb9f3a\"],[0.8888888888888888,\"#fdca26\"],[1.0,\"#f0f921\"]]}],\"heatmap\":[{\"type\":\"heatmap\",\"colorbar\":{\"outlinewidth\":0,\"ticks\":\"\"},\"colorscale\":[[0.0,\"#0d0887\"],[0.1111111111111111,\"#46039f\"],[0.2222222222222222,\"#7201a8\"],[0.3333333333333333,\"#9c179e\"],[0.4444444444444444,\"#bd3786\"],[0.5555555555555556,\"#d8576b\"],[0.6666666666666666,\"#ed7953\"],[0.7777777777777778,\"#fb9f3a\"],[0.8888888888888888,\"#fdca26\"],[1.0,\"#f0f921\"]]}],\"heatmapgl\":[{\"type\":\"heatmapgl\",\"colorbar\":{\"outlinewidth\":0,\"ticks\":\"\"},\"colorscale\":[[0.0,\"#0d0887\"],[0.1111111111111111,\"#46039f\"],[0.2222222222222222,\"#7201a8\"],[0.3333333333333333,\"#9c179e\"],[0.4444444444444444,\"#bd3786\"],[0.5555555555555556,\"#d8576b\"],[0.6666666666666666,\"#ed7953\"],[0.7777777777777778,\"#fb9f3a\"],[0.8888888888888888,\"#fdca26\"],[1.0,\"#f0f921\"]]}],\"contourcarpet\":[{\"type\":\"contourcarpet\",\"colorbar\":{\"outlinewidth\":0,\"ticks\":\"\"}}],\"contour\":[{\"type\":\"contour\",\"colorbar\":{\"outlinewidth\":0,\"ticks\":\"\"},\"colorscale\":[[0.0,\"#0d0887\"],[0.1111111111111111,\"#46039f\"],[0.2222222222222222,\"#7201a8\"],[0.3333333333333333,\"#9c179e\"],[0.4444444444444444,\"#bd3786\"],[0.5555555555555556,\"#d8576b\"],[0.6666666666666666,\"#ed7953\"],[0.7777777777777778,\"#fb9f3a\"],[0.8888888888888888,\"#fdca26\"],[1.0,\"#f0f921\"]]}],\"surface\":[{\"type\":\"surface\",\"colorbar\":{\"outlinewidth\":0,\"ticks\":\"\"},\"colorscale\":[[0.0,\"#0d0887\"],[0.1111111111111111,\"#46039f\"],[0.2222222222222222,\"#7201a8\"],[0.3333333333333333,\"#9c179e\"],[0.4444444444444444,\"#bd3786\"],[0.5555555555555556,\"#d8576b\"],[0.6666666666666666,\"#ed7953\"],[0.7777777777777778,\"#fb9f3a\"],[0.8888888888888888,\"#fdca26\"],[1.0,\"#f0f921\"]]}],\"mesh3d\":[{\"type\":\"mesh3d\",\"colorbar\":{\"outlinewidth\":0,\"ticks\":\"\"}}],\"scatter\":[{\"fillpattern\":{\"fillmode\":\"overlay\",\"size\":10,\"solidity\":0.2},\"type\":\"scatter\"}],\"parcoords\":[{\"type\":\"parcoords\",\"line\":{\"colorbar\":{\"outlinewidth\":0,\"ticks\":\"\"}}}],\"scatterpolargl\":[{\"type\":\"scatterpolargl\",\"marker\":{\"colorbar\":{\"outlinewidth\":0,\"ticks\":\"\"}}}],\"bar\":[{\"error_x\":{\"color\":\"#2a3f5f\"},\"error_y\":{\"color\":\"#2a3f5f\"},\"marker\":{\"line\":{\"color\":\"#E5ECF6\",\"width\":0.5},\"pattern\":{\"fillmode\":\"overlay\",\"size\":10,\"solidity\":0.2}},\"type\":\"bar\"}],\"scattergeo\":[{\"type\":\"scattergeo\",\"marker\":{\"colorbar\":{\"outlinewidth\":0,\"ticks\":\"\"}}}],\"scatterpolar\":[{\"type\":\"scatterpolar\",\"marker\":{\"colorbar\":{\"outlinewidth\":0,\"ticks\":\"\"}}}],\"histogram\":[{\"marker\":{\"pattern\":{\"fillmode\":\"overlay\",\"size\":10,\"solidity\":0.2}},\"type\":\"histogram\"}],\"scattergl\":[{\"type\":\"scattergl\",\"marker\":{\"colorbar\":{\"outlinewidth\":0,\"ticks\":\"\"}}}],\"scatter3d\":[{\"type\":\"scatter3d\",\"line\":{\"colorbar\":{\"outlinewidth\":0,\"ticks\":\"\"}},\"marker\":{\"colorbar\":{\"outlinewidth\":0,\"ticks\":\"\"}}}],\"scattermapbox\":[{\"type\":\"scattermapbox\",\"marker\":{\"colorbar\":{\"outlinewidth\":0,\"ticks\":\"\"}}}],\"scatterternary\":[{\"type\":\"scatterternary\",\"marker\":{\"colorbar\":{\"outlinewidth\":0,\"ticks\":\"\"}}}],\"scattercarpet\":[{\"type\":\"scattercarpet\",\"marker\":{\"colorbar\":{\"outlinewidth\":0,\"ticks\":\"\"}}}],\"carpet\":[{\"aaxis\":{\"endlinecolor\":\"#2a3f5f\",\"gridcolor\":\"white\",\"linecolor\":\"white\",\"minorgridcolor\":\"white\",\"startlinecolor\":\"#2a3f5f\"},\"baxis\":{\"endlinecolor\":\"#2a3f5f\",\"gridcolor\":\"white\",\"linecolor\":\"white\",\"minorgridcolor\":\"white\",\"startlinecolor\":\"#2a3f5f\"},\"type\":\"carpet\"}],\"table\":[{\"cells\":{\"fill\":{\"color\":\"#EBF0F8\"},\"line\":{\"color\":\"white\"}},\"header\":{\"fill\":{\"color\":\"#C8D4E3\"},\"line\":{\"color\":\"white\"}},\"type\":\"table\"}],\"barpolar\":[{\"marker\":{\"line\":{\"color\":\"#E5ECF6\",\"width\":0.5},\"pattern\":{\"fillmode\":\"overlay\",\"size\":10,\"solidity\":0.2}},\"type\":\"barpolar\"}],\"pie\":[{\"automargin\":true,\"type\":\"pie\"}]},\"layout\":{\"autotypenumbers\":\"strict\",\"colorway\":[\"#636efa\",\"#EF553B\",\"#00cc96\",\"#ab63fa\",\"#FFA15A\",\"#19d3f3\",\"#FF6692\",\"#B6E880\",\"#FF97FF\",\"#FECB52\"],\"font\":{\"color\":\"#2a3f5f\"},\"hovermode\":\"closest\",\"hoverlabel\":{\"align\":\"left\"},\"paper_bgcolor\":\"white\",\"plot_bgcolor\":\"#E5ECF6\",\"polar\":{\"bgcolor\":\"#E5ECF6\",\"angularaxis\":{\"gridcolor\":\"white\",\"linecolor\":\"white\",\"ticks\":\"\"},\"radialaxis\":{\"gridcolor\":\"white\",\"linecolor\":\"white\",\"ticks\":\"\"}},\"ternary\":{\"bgcolor\":\"#E5ECF6\",\"aaxis\":{\"gridcolor\":\"white\",\"linecolor\":\"white\",\"ticks\":\"\"},\"baxis\":{\"gridcolor\":\"white\",\"linecolor\":\"white\",\"ticks\":\"\"},\"caxis\":{\"gridcolor\":\"white\",\"linecolor\":\"white\",\"ticks\":\"\"}},\"coloraxis\":{\"colorbar\":{\"outlinewidth\":0,\"ticks\":\"\"}},\"colorscale\":{\"sequential\":[[0.0,\"#0d0887\"],[0.1111111111111111,\"#46039f\"],[0.2222222222222222,\"#7201a8\"],[0.3333333333333333,\"#9c179e\"],[0.4444444444444444,\"#bd3786\"],[0.5555555555555556,\"#d8576b\"],[0.6666666666666666,\"#ed7953\"],[0.7777777777777778,\"#fb9f3a\"],[0.8888888888888888,\"#fdca26\"],[1.0,\"#f0f921\"]],\"sequentialminus\":[[0.0,\"#0d0887\"],[0.1111111111111111,\"#46039f\"],[0.2222222222222222,\"#7201a8\"],[0.3333333333333333,\"#9c179e\"],[0.4444444444444444,\"#bd3786\"],[0.5555555555555556,\"#d8576b\"],[0.6666666666666666,\"#ed7953\"],[0.7777777777777778,\"#fb9f3a\"],[0.8888888888888888,\"#fdca26\"],[1.0,\"#f0f921\"]],\"diverging\":[[0,\"#8e0152\"],[0.1,\"#c51b7d\"],[0.2,\"#de77ae\"],[0.3,\"#f1b6da\"],[0.4,\"#fde0ef\"],[0.5,\"#f7f7f7\"],[0.6,\"#e6f5d0\"],[0.7,\"#b8e186\"],[0.8,\"#7fbc41\"],[0.9,\"#4d9221\"],[1,\"#276419\"]]},\"xaxis\":{\"gridcolor\":\"white\",\"linecolor\":\"white\",\"ticks\":\"\",\"title\":{\"standoff\":15},\"zerolinecolor\":\"white\",\"automargin\":true,\"zerolinewidth\":2},\"yaxis\":{\"gridcolor\":\"white\",\"linecolor\":\"white\",\"ticks\":\"\",\"title\":{\"standoff\":15},\"zerolinecolor\":\"white\",\"automargin\":true,\"zerolinewidth\":2},\"scene\":{\"xaxis\":{\"backgroundcolor\":\"#E5ECF6\",\"gridcolor\":\"white\",\"linecolor\":\"white\",\"showbackground\":true,\"ticks\":\"\",\"zerolinecolor\":\"white\",\"gridwidth\":2},\"yaxis\":{\"backgroundcolor\":\"#E5ECF6\",\"gridcolor\":\"white\",\"linecolor\":\"white\",\"showbackground\":true,\"ticks\":\"\",\"zerolinecolor\":\"white\",\"gridwidth\":2},\"zaxis\":{\"backgroundcolor\":\"#E5ECF6\",\"gridcolor\":\"white\",\"linecolor\":\"white\",\"showbackground\":true,\"ticks\":\"\",\"zerolinecolor\":\"white\",\"gridwidth\":2}},\"shapedefaults\":{\"line\":{\"color\":\"#2a3f5f\"}},\"annotationdefaults\":{\"arrowcolor\":\"#2a3f5f\",\"arrowhead\":0,\"arrowwidth\":1},\"geo\":{\"bgcolor\":\"white\",\"landcolor\":\"#E5ECF6\",\"subunitcolor\":\"white\",\"showland\":true,\"showlakes\":true,\"lakecolor\":\"white\"},\"title\":{\"x\":0.05},\"mapbox\":{\"style\":\"light\"}}},\"xaxis\":{\"anchor\":\"y\",\"domain\":[0.0,1.0],\"rangeslider\":{\"visible\":false}},\"yaxis\":{\"anchor\":\"x\",\"domain\":[0.575,1.0]},\"xaxis2\":{\"anchor\":\"y2\",\"domain\":[0.0,1.0]},\"yaxis2\":{\"anchor\":\"x2\",\"domain\":[0.0,0.425]}},                        {\"responsive\": true}                    ).then(function(){\n",
       "                            \n",
       "var gd = document.getElementById('765aa040-c9ad-4ba5-b260-7e2e701b5ce2');\n",
       "var x = new MutationObserver(function (mutations, observer) {{\n",
       "        var display = window.getComputedStyle(gd).display;\n",
       "        if (!display || display === 'none') {{\n",
       "            console.log([gd, 'removed!']);\n",
       "            Plotly.purge(gd);\n",
       "            observer.disconnect();\n",
       "        }}\n",
       "}});\n",
       "\n",
       "// Listen for the removal of the full notebook cells\n",
       "var notebookContainer = gd.closest('#notebook-container');\n",
       "if (notebookContainer) {{\n",
       "    x.observe(notebookContainer, {childList: true});\n",
       "}}\n",
       "\n",
       "// Listen for the clearing of the current output cell\n",
       "var outputEl = gd.closest('.output');\n",
       "if (outputEl) {{\n",
       "    x.observe(outputEl, {childList: true});\n",
       "}}\n",
       "\n",
       "                        })                };                });            </script>        </div>"
      ]
     },
     "metadata": {},
     "output_type": "display_data"
    }
   ],
   "source": [
    "import plotly.graph_objects as go\n",
    "import pandas as pd\n",
    "from plotly.subplots import make_subplots\n",
    "fig = make_subplots(rows=2, cols=1)\n",
    "\n",
    "fig = fig.add_trace(go.Candlestick(\n",
    "                open=original[:,0], high=original[:,2],\n",
    "                low=original[:,3], close=original[:,1])\n",
    "                ,row=1, col=1)\n",
    "\n",
    "fig = fig.add_trace(go.Candlestick(\n",
    "                open=pred[:,0], high=pred[:,2],\n",
    "                low=pred[:,3], close=pred[:,1])\n",
    "                ,row=2, col=1)\n",
    "\n",
    "fig.update_layout(xaxis_rangeslider_visible=False)\n",
    "fig.show()"
   ]
  },
  {
   "cell_type": "code",
   "execution_count": 85,
   "id": "69f33e81-7183-4c21-9b1e-7b1e435157a6",
   "metadata": {
    "tags": []
   },
   "outputs": [
    {
     "data": {
      "text/plain": [
       "array([[7.65443286, 7.64268711, 7.76207042, 7.52127339],\n",
       "       [7.8632814 , 7.85273044, 7.97711637, 7.72420682],\n",
       "       [7.65924431, 7.64772784, 7.76737183, 7.52590781],\n",
       "       [7.6547499 , 7.64298146, 7.76209618, 7.52193088],\n",
       "       [7.64589775, 7.63366605, 7.75204449, 7.51385538],\n",
       "       [7.5259598 , 7.51297965, 7.62824577, 7.39758571],\n",
       "       [7.36700234, 7.35464474, 7.4662158 , 7.24383795],\n",
       "       [7.41434138, 7.40106051, 7.51328022, 7.28970138],\n",
       "       [7.43542223, 7.42165504, 7.53390636, 7.31062551],\n",
       "       [7.4919375 , 7.47842214, 7.5920465 , 7.36561452],\n",
       "       [7.80767708, 7.79626002, 7.91815616, 7.67184216],\n",
       "       [7.82162037, 7.81050499, 7.93340527, 7.68480055],\n",
       "       [8.05791469, 8.04825752, 8.17738445, 7.91378646],\n",
       "       [8.11160739, 8.10261741, 8.23382252, 7.96505609],\n",
       "       [8.07053935, 8.061189  , 8.19144576, 7.92491087],\n",
       "       [8.1375476 , 8.12826782, 8.25990275, 7.9899902 ],\n",
       "       [8.05645374, 8.04676085, 8.1764949 , 7.91101648],\n",
       "       [7.94625447, 7.93608925, 8.06315082, 7.80383652],\n",
       "       [7.96811617, 7.95787492, 8.08510468, 7.82533647],\n",
       "       [7.89705923, 7.88647948, 8.01195838, 7.75637874],\n",
       "       [7.89569856, 7.88485346, 8.0099505 , 7.75540212],\n",
       "       [8.07752332, 8.06753483, 8.19695987, 7.93213788],\n",
       "       [7.93802653, 7.92767996, 8.05425999, 7.79617912],\n",
       "       [7.81897135, 7.8080959 , 7.93177694, 7.68052286],\n",
       "       [7.72340557, 7.71193146, 7.83297629, 7.588016  ],\n",
       "       [7.58392945, 7.57160885, 7.68891892, 7.4529187 ],\n",
       "       [7.47343286, 7.46066691, 7.57513479, 7.34584743],\n",
       "       [7.36436553, 7.35229859, 7.46417247, 7.24069332],\n",
       "       [7.47321634, 7.46038631, 7.57431259, 7.3464818 ],\n",
       "       [7.51166401, 7.49870415, 7.61329184, 7.38429393],\n",
       "       [7.63966152, 7.62729272, 7.74503061, 7.50873546],\n",
       "       [7.08819264, 7.0804973 , 7.18692052, 6.97428377],\n",
       "       [7.16867262, 7.15966231, 7.26750656, 7.05230918],\n",
       "       [7.00455872, 6.99878758, 7.10368968, 6.89171988],\n",
       "       [7.00875817, 7.00282548, 7.10750786, 6.89581326],\n",
       "       [6.88980457, 6.88655091, 6.98929297, 6.77892953],\n",
       "       [6.92217335, 6.91828345, 7.02096435, 6.81051051],\n",
       "       [6.82720465, 6.82474751, 6.925526  , 6.71811936],\n",
       "       [6.8993832 , 6.89575561, 6.99739539, 6.78811129],\n",
       "       [6.91637497, 6.9124952 , 7.01422935, 6.80466828],\n",
       "       [6.79150968, 6.78996802, 6.88958752, 6.68393369],\n",
       "       [6.84386859, 6.84115557, 6.94184192, 6.73439265],\n",
       "       [6.86929438, 6.86607337, 6.96716068, 6.75895361],\n",
       "       [6.87559966, 6.87228182, 6.97338355, 6.76505804],\n",
       "       [6.69119656, 6.69182215, 6.78869402, 6.58747919],\n",
       "       [6.43842888, 6.4428343 , 6.53303269, 6.34355961],\n",
       "       [6.39131752, 6.39636656, 6.48461988, 6.29830387],\n",
       "       [6.35538583, 6.36090702, 6.44766789, 6.26380113],\n",
       "       [6.38821091, 6.3933026 , 6.48142774, 6.29540144],\n",
       "       [6.29623845, 6.30251961, 6.38680769, 6.20699899],\n",
       "       [6.34106949, 6.3467484 , 6.43293209, 6.25009817],\n",
       "       [5.86374197, 5.87566646, 5.9419684 , 5.79118052],\n",
       "       [5.90357386, 5.91488132, 5.98304948, 5.82935467],\n",
       "       [5.96306675, 5.97344433, 6.04423393, 5.88646341],\n",
       "       [5.95362245, 5.96405948, 6.03445095, 5.8774141 ],\n",
       "       [5.95858825, 5.96895629, 6.03950728, 5.8822514 ],\n",
       "       [5.98679545, 5.99682235, 6.06848542, 5.90943941],\n",
       "       [6.05181741, 6.06102341, 6.13536217, 5.97198277],\n",
       "       [6.15650447, 6.16432478, 6.2430442 , 6.0725957 ],\n",
       "       [6.21210596, 6.21919785, 6.30021005, 6.12604491],\n",
       "       [6.12736394, 6.13562312, 6.21300422, 6.0446387 ],\n",
       "       [6.18096811, 6.18857827, 6.26815463, 6.09620435],\n",
       "       [6.28821717, 6.29443007, 6.37849327, 6.19928325],\n",
       "       [6.33145234, 6.33709588, 6.42296406, 6.24082145],\n",
       "       [6.25814221, 6.26477265, 6.34753373, 6.17036659],\n",
       "       [6.22051602, 6.2277041 , 6.3088408 , 6.13424594],\n",
       "       [6.06995874, 6.07918567, 6.15397701, 5.98957515],\n",
       "       [6.15967484, 6.16776222, 6.24631019, 6.07584361],\n",
       "       [6.21249979, 6.21988327, 6.30064384, 6.12662634],\n",
       "       [6.03315121, 6.04291056, 6.11614374, 5.95424573],\n",
       "       [6.12040686, 6.12902885, 6.20593564, 6.03812515],\n",
       "       [6.41305687, 6.41766981, 6.5070366 , 6.31922465],\n",
       "       [6.43908456, 6.44321651, 6.53374145, 6.344127  ],\n",
       "       [6.36890734, 6.37392939, 6.46148778, 6.27665829],\n",
       "       [6.41519288, 6.41962246, 6.5090947 , 6.32115866],\n",
       "       [6.48792811, 6.49138543, 6.58392073, 6.39104224],\n",
       "       [6.4991659 , 6.50248615, 6.59547172, 6.40184234],\n",
       "       [6.52354981, 6.52652732, 6.62001413, 6.42544894],\n",
       "       [6.40969722, 6.41425906, 6.50342331, 6.31588814],\n",
       "       [6.45488205, 6.45890805, 6.54992432, 6.35937289],\n",
       "       [6.40956406, 6.41424147, 6.50329629, 6.3158781 ],\n",
       "       [6.47608643, 6.47989574, 6.57149059, 6.37991847],\n",
       "       [6.61015578, 6.61200448, 6.70717435, 6.50937189],\n",
       "       [6.54403898, 6.54681957, 6.64060175, 6.44536782],\n",
       "       [6.47587014, 6.47965942, 6.57150288, 6.37957201],\n",
       "       [6.45990521, 6.46395355, 6.55508794, 6.3642735 ],\n",
       "       [6.62320702, 6.62486161, 6.72039856, 6.5219123 ],\n",
       "       [6.88775216, 6.8840916 , 6.98601847, 6.77660465],\n",
       "       [6.79288269, 6.79128314, 6.89149626, 6.68511331],\n",
       "       [6.84719196, 6.84434596, 6.9456464 , 6.73742914],\n",
       "       [6.86901092, 6.86563231, 6.96728156, 6.75845191],\n",
       "       [6.97235997, 6.96700691, 7.07010613, 6.85902248],\n",
       "       [6.94220704, 6.93761226, 7.04037386, 6.82957128],\n",
       "       [6.88275131, 6.8793352 , 6.98115877, 6.77174466],\n",
       "       [6.84182758, 6.83896544, 6.940133  , 6.73216316],\n",
       "       [6.79588515, 6.79417313, 6.89411128, 6.6880502 ],\n",
       "       [6.76751984, 6.76650482, 6.86555192, 6.66086391],\n",
       "       [6.82137563, 6.81922692, 6.91945037, 6.71276392],\n",
       "       [6.75634827, 6.75565778, 6.85408732, 6.65027923],\n",
       "       [6.96768332, 6.96242414, 7.06496921, 6.85443668],\n",
       "       [6.9030472 , 6.89935117, 7.00127042, 6.79143418],\n",
       "       [6.90036648, 6.89670286, 6.99866934, 6.78883252],\n",
       "       [6.82909689, 6.82661625, 6.92746534, 6.71992211],\n",
       "       [6.75367553, 6.7529603 , 6.851659  , 6.64750256],\n",
       "       [6.74832453, 6.74778673, 6.84626023, 6.64243698],\n",
       "       [6.71605662, 6.71625415, 6.81375069, 6.61146844],\n",
       "       [6.49022522, 6.4939122 , 6.58617593, 6.39339607],\n",
       "       [6.51558537, 6.51892754, 6.61173871, 6.41797292],\n",
       "       [6.43234693, 6.43686112, 6.52678666, 6.33781309],\n",
       "       [6.51896452, 6.52227163, 6.61501522, 6.42135102],\n",
       "       [6.39976022, 6.40470384, 6.49324909, 6.30654131],\n",
       "       [6.4192176 , 6.42396332, 6.51330768, 6.32527862],\n",
       "       [6.5472885 , 6.55019711, 6.64357517, 6.44879161],\n",
       "       [6.36498923, 6.37038359, 6.45749495, 6.27310972],\n",
       "       [6.37858918, 6.38380751, 6.47150119, 6.28618673],\n",
       "       [6.48175211, 6.48557364, 6.57744452, 6.38539123],\n",
       "       [6.48028177, 6.48409363, 6.57591698, 6.38396249],\n",
       "       [6.44378211, 6.4480941 , 6.53850544, 6.34885152],\n",
       "       [6.26392591, 6.27064107, 6.35349781, 6.17599275],\n",
       "       [6.31261377, 6.3187149 , 6.40362132, 6.22281249],\n",
       "       [6.31502912, 6.32110883, 6.40609288, 6.22517173],\n",
       "       [6.40650935, 6.41137991, 6.50019371, 6.31311363],\n",
       "       [6.45092801, 6.45520144, 6.54586436, 6.35580725],\n",
       "       [6.40812225, 6.41297564, 6.50181105, 6.31468217]])"
      ]
     },
     "execution_count": 85,
     "metadata": {},
     "output_type": "execute_result"
    }
   ],
   "source": [
    "pred"
   ]
  },
  {
   "cell_type": "code",
   "execution_count": null,
   "id": "402af4ea-350b-44a6-bf1d-26a64a8dfe5d",
   "metadata": {},
   "outputs": [],
   "source": [
    "r'zs.(\\d+)\\', r'SZ.\\1'"
   ]
  }
 ],
 "metadata": {
  "kernelspec": {
   "display_name": "Python 3 (ipykernel)",
   "language": "python",
   "name": "python3"
  },
  "language_info": {
   "codemirror_mode": {
    "name": "ipython",
    "version": 3
   },
   "file_extension": ".py",
   "mimetype": "text/x-python",
   "name": "python",
   "nbconvert_exporter": "python",
   "pygments_lexer": "ipython3",
   "version": "3.9.16"
  }
 },
 "nbformat": 4,
 "nbformat_minor": 5
}
